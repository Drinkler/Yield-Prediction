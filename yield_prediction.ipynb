{
  "nbformat": 4,
  "nbformat_minor": 0,
  "metadata": {
    "colab": {
      "name": "Yield-Prediction.ipynb",
      "provenance": [],
      "collapsed_sections": [],
      "include_colab_link": true
    },
    "kernelspec": {
      "name": "python3",
      "display_name": "Python 3"
    }
  },
  "cells": [
    {
      "cell_type": "markdown",
      "metadata": {
        "id": "view-in-github",
        "colab_type": "text"
      },
      "source": [
        "<a href=\"https://colab.research.google.com/github/Drinkler/Yield-Prediction/blob/main/yield_prediction.ipynb\" target=\"_parent\"><img src=\"https://colab.research.google.com/assets/colab-badge.svg\" alt=\"Open In Colab\"/></a>"
      ]
    },
    {
      "cell_type": "code",
      "metadata": {
        "id": "DT3fanSQo8BG"
      },
      "source": [
        "# https://github.com/hajir-almahdi/Machine-Learning-Capstone-Project\n",
        "# https://towardsdatascience.com/predicting-crops-yield-machine-learning-nanodegree-capstone-project-e6ec9349f69"
      ],
      "execution_count": null,
      "outputs": []
    },
    {
      "cell_type": "code",
      "metadata": {
        "id": "_5JPwoqvpEg0"
      },
      "source": [
        "# Imports\n",
        "import numpy as np\n",
        "import pandas as pd"
      ],
      "execution_count": 2,
      "outputs": []
    },
    {
      "cell_type": "code",
      "metadata": {
        "id": "i7ilD5PoNpL8"
      },
      "source": [
        "# Define url to data\r\n",
        "resource_folder = 'https://raw.githubusercontent.com/Drinkler/Yield-Prediction/main/res'\r\n",
        "\r\n",
        "pesticides_url = '{}/pesticides.csv?token=AEEE4P77JZJA3CURKL46M5DAKKAF2'.format(resource_folder)\r\n",
        "rainfall_url = '{}/rainfall.csv?token=AEEE4P2E3ZCWY3BZLMTFXFLAKKAJ6'.format(resource_folder)\r\n",
        "temp_url = '{}/temp.csv?token=AEEE4P6TPZ5KSSRZTPVKH4DAKKAMU'.format(resource_folder)\r\n",
        "yield_url = '{}/yield.csv?token=AEEE4P2SNUV42I6JENXL5ETAKKANS'.format(resource_folder)"
      ],
      "execution_count": 9,
      "outputs": []
    },
    {
      "cell_type": "code",
      "metadata": {
        "colab": {
          "base_uri": "https://localhost:8080/",
          "height": 419
        },
        "id": "DaGEgUcnpFrc",
        "outputId": "c4f4e343-d6bc-46da-97d5-0bf6939b57e7"
      },
      "source": [
        "# Load data\r\n",
        "pesticides_data = pd.read_csv(pesticides_url, sep=',')\r\n",
        "rainfall_data = pd.read_csv(rainfall_url, sep=',')\r\n",
        "temp_data = pd.read_csv(temp_url, sep=',')\r\n",
        "yield_data = pd.read_csv(yield_url, sep=',')"
      ],
      "execution_count": 14,
      "outputs": [
        {
          "output_type": "execute_result",
          "data": {
            "text/html": [
              "<div>\n",
              "<style scoped>\n",
              "    .dataframe tbody tr th:only-of-type {\n",
              "        vertical-align: middle;\n",
              "    }\n",
              "\n",
              "    .dataframe tbody tr th {\n",
              "        vertical-align: top;\n",
              "    }\n",
              "\n",
              "    .dataframe thead th {\n",
              "        text-align: right;\n",
              "    }\n",
              "</style>\n",
              "<table border=\"1\" class=\"dataframe\">\n",
              "  <thead>\n",
              "    <tr style=\"text-align: right;\">\n",
              "      <th></th>\n",
              "      <th>Domain</th>\n",
              "      <th>Area</th>\n",
              "      <th>Element</th>\n",
              "      <th>Item</th>\n",
              "      <th>Year</th>\n",
              "      <th>Unit</th>\n",
              "      <th>Value</th>\n",
              "    </tr>\n",
              "  </thead>\n",
              "  <tbody>\n",
              "    <tr>\n",
              "      <th>0</th>\n",
              "      <td>Pesticides Use</td>\n",
              "      <td>Albania</td>\n",
              "      <td>Use</td>\n",
              "      <td>Pesticides (total)</td>\n",
              "      <td>1990</td>\n",
              "      <td>tonnes of active ingredients</td>\n",
              "      <td>121.00</td>\n",
              "    </tr>\n",
              "    <tr>\n",
              "      <th>1</th>\n",
              "      <td>Pesticides Use</td>\n",
              "      <td>Albania</td>\n",
              "      <td>Use</td>\n",
              "      <td>Pesticides (total)</td>\n",
              "      <td>1991</td>\n",
              "      <td>tonnes of active ingredients</td>\n",
              "      <td>121.00</td>\n",
              "    </tr>\n",
              "    <tr>\n",
              "      <th>2</th>\n",
              "      <td>Pesticides Use</td>\n",
              "      <td>Albania</td>\n",
              "      <td>Use</td>\n",
              "      <td>Pesticides (total)</td>\n",
              "      <td>1992</td>\n",
              "      <td>tonnes of active ingredients</td>\n",
              "      <td>121.00</td>\n",
              "    </tr>\n",
              "    <tr>\n",
              "      <th>3</th>\n",
              "      <td>Pesticides Use</td>\n",
              "      <td>Albania</td>\n",
              "      <td>Use</td>\n",
              "      <td>Pesticides (total)</td>\n",
              "      <td>1993</td>\n",
              "      <td>tonnes of active ingredients</td>\n",
              "      <td>121.00</td>\n",
              "    </tr>\n",
              "    <tr>\n",
              "      <th>4</th>\n",
              "      <td>Pesticides Use</td>\n",
              "      <td>Albania</td>\n",
              "      <td>Use</td>\n",
              "      <td>Pesticides (total)</td>\n",
              "      <td>1994</td>\n",
              "      <td>tonnes of active ingredients</td>\n",
              "      <td>201.00</td>\n",
              "    </tr>\n",
              "    <tr>\n",
              "      <th>...</th>\n",
              "      <td>...</td>\n",
              "      <td>...</td>\n",
              "      <td>...</td>\n",
              "      <td>...</td>\n",
              "      <td>...</td>\n",
              "      <td>...</td>\n",
              "      <td>...</td>\n",
              "    </tr>\n",
              "    <tr>\n",
              "      <th>4344</th>\n",
              "      <td>Pesticides Use</td>\n",
              "      <td>Zimbabwe</td>\n",
              "      <td>Use</td>\n",
              "      <td>Pesticides (total)</td>\n",
              "      <td>2012</td>\n",
              "      <td>tonnes of active ingredients</td>\n",
              "      <td>3375.53</td>\n",
              "    </tr>\n",
              "    <tr>\n",
              "      <th>4345</th>\n",
              "      <td>Pesticides Use</td>\n",
              "      <td>Zimbabwe</td>\n",
              "      <td>Use</td>\n",
              "      <td>Pesticides (total)</td>\n",
              "      <td>2013</td>\n",
              "      <td>tonnes of active ingredients</td>\n",
              "      <td>2550.07</td>\n",
              "    </tr>\n",
              "    <tr>\n",
              "      <th>4346</th>\n",
              "      <td>Pesticides Use</td>\n",
              "      <td>Zimbabwe</td>\n",
              "      <td>Use</td>\n",
              "      <td>Pesticides (total)</td>\n",
              "      <td>2014</td>\n",
              "      <td>tonnes of active ingredients</td>\n",
              "      <td>2185.07</td>\n",
              "    </tr>\n",
              "    <tr>\n",
              "      <th>4347</th>\n",
              "      <td>Pesticides Use</td>\n",
              "      <td>Zimbabwe</td>\n",
              "      <td>Use</td>\n",
              "      <td>Pesticides (total)</td>\n",
              "      <td>2015</td>\n",
              "      <td>tonnes of active ingredients</td>\n",
              "      <td>2185.07</td>\n",
              "    </tr>\n",
              "    <tr>\n",
              "      <th>4348</th>\n",
              "      <td>Pesticides Use</td>\n",
              "      <td>Zimbabwe</td>\n",
              "      <td>Use</td>\n",
              "      <td>Pesticides (total)</td>\n",
              "      <td>2016</td>\n",
              "      <td>tonnes of active ingredients</td>\n",
              "      <td>2185.07</td>\n",
              "    </tr>\n",
              "  </tbody>\n",
              "</table>\n",
              "<p>4349 rows × 7 columns</p>\n",
              "</div>"
            ],
            "text/plain": [
              "              Domain      Area  ...                          Unit    Value\n",
              "0     Pesticides Use   Albania  ...  tonnes of active ingredients   121.00\n",
              "1     Pesticides Use   Albania  ...  tonnes of active ingredients   121.00\n",
              "2     Pesticides Use   Albania  ...  tonnes of active ingredients   121.00\n",
              "3     Pesticides Use   Albania  ...  tonnes of active ingredients   121.00\n",
              "4     Pesticides Use   Albania  ...  tonnes of active ingredients   201.00\n",
              "...              ...       ...  ...                           ...      ...\n",
              "4344  Pesticides Use  Zimbabwe  ...  tonnes of active ingredients  3375.53\n",
              "4345  Pesticides Use  Zimbabwe  ...  tonnes of active ingredients  2550.07\n",
              "4346  Pesticides Use  Zimbabwe  ...  tonnes of active ingredients  2185.07\n",
              "4347  Pesticides Use  Zimbabwe  ...  tonnes of active ingredients  2185.07\n",
              "4348  Pesticides Use  Zimbabwe  ...  tonnes of active ingredients  2185.07\n",
              "\n",
              "[4349 rows x 7 columns]"
            ]
          },
          "metadata": {
            "tags": []
          },
          "execution_count": 14
        }
      ]
    },
    {
      "cell_type": "code",
      "metadata": {
        "id": "2AFb5Lv3pHt4"
      },
      "source": [
        "data.shape"
      ],
      "execution_count": null,
      "outputs": []
    },
    {
      "cell_type": "code",
      "metadata": {
        "id": "40WUy9afpI0L"
      },
      "source": [
        "data.describe()"
      ],
      "execution_count": null,
      "outputs": []
    },
    {
      "cell_type": "code",
      "metadata": {
        "id": "i6-vS0wkpKII"
      },
      "source": [
        "data.head()"
      ],
      "execution_count": null,
      "outputs": []
    },
    {
      "cell_type": "code",
      "metadata": {
        "id": "FdtNa4lfpLxr"
      },
      "source": [
        "data.tail()"
      ],
      "execution_count": null,
      "outputs": []
    },
    {
      "cell_type": "code",
      "metadata": {
        "id": "3LwWSD3VpNSL"
      },
      "source": [
        "data = data.rename(index=str, columns={\"Value\": \"hg/ha_yield\"})\n",
        "data.head()"
      ],
      "execution_count": null,
      "outputs": []
    }
  ]
}
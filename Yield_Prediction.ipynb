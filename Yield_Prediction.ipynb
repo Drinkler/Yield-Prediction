{
  "nbformat": 4,
  "nbformat_minor": 0,
  "metadata": {
    "colab": {
      "name": "Yield-Prediction.ipynb",
      "provenance": [],
      "collapsed_sections": [
        "gICh1IqOCslF",
        "m739eEE20dev",
        "ZWPdFJhwif9X",
        "I_viM345p0qr",
        "bfkBFYYk0id8",
        "Zwt3qFL4uY5w",
        "zLMa9ocB7C9F",
        "j50tyMsyAnTd"
      ],
      "include_colab_link": true
    },
    "kernelspec": {
      "name": "python3",
      "display_name": "Python 3"
    }
  },
  "cells": [
    {
      "cell_type": "markdown",
      "metadata": {
        "id": "view-in-github",
        "colab_type": "text"
      },
      "source": [
        "<a href=\"https://colab.research.google.com/github/Drinkler/Yield-Prediction/blob/main/Yield_Prediction.ipynb\" target=\"_parent\"><img src=\"https://colab.research.google.com/assets/colab-badge.svg\" alt=\"Open In Colab\"/></a>"
      ]
    },
    {
      "cell_type": "markdown",
      "metadata": {
        "id": "gICh1IqOCslF"
      },
      "source": [
        "# General"
      ]
    },
    {
      "cell_type": "code",
      "metadata": {
        "id": "DT3fanSQo8BG"
      },
      "source": [
        "# https://github.com/hajir-almahdi/Machine-Learning-Capstone-Project\n",
        "# https://towardsdatascience.com/predicting-crops-yield-machine-learning-nanodegree-capstone-project-e6ec9349f69"
      ],
      "execution_count": 1,
      "outputs": []
    },
    {
      "cell_type": "code",
      "metadata": {
        "id": "_5JPwoqvpEg0"
      },
      "source": [
        "# Imports\n",
        "import numpy as np\n",
        "import pandas as pd\n",
        "\n",
        "import sklearn\n",
        "import seaborn as sns\n",
        "import matplotlib.pyplot as plt"
      ],
      "execution_count": 2,
      "outputs": []
    },
    {
      "cell_type": "code",
      "metadata": {
        "id": "i7ilD5PoNpL8"
      },
      "source": [
        "# Define url to data\n",
        "resource_folder = 'https://raw.githubusercontent.com/Drinkler/Yield-Prediction/main/res'\n",
        "\n",
        "pesticides_url = '{}/pesticides.csv?token=AEEE4P7JUYWTGUEXQFQFP6TAN4NLQ'.format(resource_folder)\n",
        "rainfall_url = '{}/rainfall.csv?token=AEEE4P6QEF6CK5DAD7EOWP3AN4NLU'.format(resource_folder)\n",
        "temperature_url = '{}/temp.csv?token=AEEE4P5INYQIFOKMOSCRDP3AN4NLW'.format(resource_folder)\n",
        "yield_url = '{}/yield.csv?token=AEEE4PYVSV3JAZO4CSXFA43AN4NL2'.format(resource_folder)"
      ],
      "execution_count": 3,
      "outputs": []
    },
    {
      "cell_type": "code",
      "metadata": {
        "id": "DaGEgUcnpFrc",
        "colab": {
          "base_uri": "https://localhost:8080/"
        },
        "outputId": "961feb9b-9cca-4de3-b24c-128c5b1c53d7"
      },
      "source": [
        "# Load data\n",
        "pesticides_data = pd.read_csv(pesticides_url, sep=',')\n",
        "rainfall_data = pd.read_csv(rainfall_url, sep=', ')\n",
        "temperature_data = pd.read_csv(temperature_url, sep=', ')\n",
        "yield_data = pd.read_csv(yield_url, sep=',')"
      ],
      "execution_count": 4,
      "outputs": [
        {
          "output_type": "stream",
          "text": [
            "/usr/local/lib/python3.7/dist-packages/ipykernel_launcher.py:3: ParserWarning: Falling back to the 'python' engine because the 'c' engine does not support regex separators (separators > 1 char and different from '\\s+' are interpreted as regex); you can avoid this warning by specifying engine='python'.\n",
            "  This is separate from the ipykernel package so we can avoid doing imports until\n",
            "/usr/local/lib/python3.7/dist-packages/ipykernel_launcher.py:4: ParserWarning: Falling back to the 'python' engine because the 'c' engine does not support regex separators (separators > 1 char and different from '\\s+' are interpreted as regex); you can avoid this warning by specifying engine='python'.\n",
            "  after removing the cwd from sys.path.\n"
          ],
          "name": "stderr"
        }
      ]
    },
    {
      "cell_type": "markdown",
      "metadata": {
        "id": "m739eEE20dev"
      },
      "source": [
        "#Data Preparation\n"
      ]
    },
    {
      "cell_type": "markdown",
      "metadata": {
        "id": "ZWPdFJhwif9X"
      },
      "source": [
        "## Rainfall data"
      ]
    },
    {
      "cell_type": "code",
      "metadata": {
        "colab": {
          "base_uri": "https://localhost:8080/",
          "height": 0
        },
        "id": "wY67XxF40IC5",
        "outputId": "02164573-dd23-4499-aac0-29fb55c02f27"
      },
      "source": [
        "rainfall_data"
      ],
      "execution_count": 5,
      "outputs": [
        {
          "output_type": "execute_result",
          "data": {
            "text/html": [
              "<div>\n",
              "<style scoped>\n",
              "    .dataframe tbody tr th:only-of-type {\n",
              "        vertical-align: middle;\n",
              "    }\n",
              "\n",
              "    .dataframe tbody tr th {\n",
              "        vertical-align: top;\n",
              "    }\n",
              "\n",
              "    .dataframe thead th {\n",
              "        text-align: right;\n",
              "    }\n",
              "</style>\n",
              "<table border=\"1\" class=\"dataframe\">\n",
              "  <thead>\n",
              "    <tr style=\"text-align: right;\">\n",
              "      <th></th>\n",
              "      <th>Rainfall - (MM)</th>\n",
              "      <th>Year</th>\n",
              "      <th>Statistics</th>\n",
              "      <th>Country</th>\n",
              "      <th>ISO3</th>\n",
              "    </tr>\n",
              "  </thead>\n",
              "  <tbody>\n",
              "    <tr>\n",
              "      <th>0</th>\n",
              "      <td>55.74480</td>\n",
              "      <td>1901</td>\n",
              "      <td>Jan Average</td>\n",
              "      <td>Afghanistan</td>\n",
              "      <td>AFG</td>\n",
              "    </tr>\n",
              "    <tr>\n",
              "      <th>1</th>\n",
              "      <td>13.94800</td>\n",
              "      <td>1901</td>\n",
              "      <td>Feb Average</td>\n",
              "      <td>Afghanistan</td>\n",
              "      <td>AFG</td>\n",
              "    </tr>\n",
              "    <tr>\n",
              "      <th>2</th>\n",
              "      <td>43.84640</td>\n",
              "      <td>1901</td>\n",
              "      <td>Mar Average</td>\n",
              "      <td>Afghanistan</td>\n",
              "      <td>AFG</td>\n",
              "    </tr>\n",
              "    <tr>\n",
              "      <th>3</th>\n",
              "      <td>26.96100</td>\n",
              "      <td>1901</td>\n",
              "      <td>Apr Average</td>\n",
              "      <td>Afghanistan</td>\n",
              "      <td>AFG</td>\n",
              "    </tr>\n",
              "    <tr>\n",
              "      <th>4</th>\n",
              "      <td>52.95790</td>\n",
              "      <td>1901</td>\n",
              "      <td>May Average</td>\n",
              "      <td>Afghanistan</td>\n",
              "      <td>AFG</td>\n",
              "    </tr>\n",
              "    <tr>\n",
              "      <th>...</th>\n",
              "      <td>...</td>\n",
              "      <td>...</td>\n",
              "      <td>...</td>\n",
              "      <td>...</td>\n",
              "      <td>...</td>\n",
              "    </tr>\n",
              "    <tr>\n",
              "      <th>272827</th>\n",
              "      <td>2.03926</td>\n",
              "      <td>2016</td>\n",
              "      <td>Aug Average</td>\n",
              "      <td>Zimbabwe</td>\n",
              "      <td>ZWE</td>\n",
              "    </tr>\n",
              "    <tr>\n",
              "      <th>272828</th>\n",
              "      <td>0.48070</td>\n",
              "      <td>2016</td>\n",
              "      <td>Sep Average</td>\n",
              "      <td>Zimbabwe</td>\n",
              "      <td>ZWE</td>\n",
              "    </tr>\n",
              "    <tr>\n",
              "      <th>272829</th>\n",
              "      <td>9.13410</td>\n",
              "      <td>2016</td>\n",
              "      <td>Oct Average</td>\n",
              "      <td>Zimbabwe</td>\n",
              "      <td>ZWE</td>\n",
              "    </tr>\n",
              "    <tr>\n",
              "      <th>272830</th>\n",
              "      <td>72.95080</td>\n",
              "      <td>2016</td>\n",
              "      <td>Nov Average</td>\n",
              "      <td>Zimbabwe</td>\n",
              "      <td>ZWE</td>\n",
              "    </tr>\n",
              "    <tr>\n",
              "      <th>272831</th>\n",
              "      <td>148.26800</td>\n",
              "      <td>2016</td>\n",
              "      <td>Dec Average</td>\n",
              "      <td>Zimbabwe</td>\n",
              "      <td>ZWE</td>\n",
              "    </tr>\n",
              "  </tbody>\n",
              "</table>\n",
              "<p>272832 rows × 5 columns</p>\n",
              "</div>"
            ],
            "text/plain": [
              "        Rainfall - (MM)  Year   Statistics      Country ISO3\n",
              "0              55.74480  1901  Jan Average  Afghanistan  AFG\n",
              "1              13.94800  1901  Feb Average  Afghanistan  AFG\n",
              "2              43.84640  1901  Mar Average  Afghanistan  AFG\n",
              "3              26.96100  1901  Apr Average  Afghanistan  AFG\n",
              "4              52.95790  1901  May Average  Afghanistan  AFG\n",
              "...                 ...   ...          ...          ...  ...\n",
              "272827          2.03926  2016  Aug Average     Zimbabwe  ZWE\n",
              "272828          0.48070  2016  Sep Average     Zimbabwe  ZWE\n",
              "272829          9.13410  2016  Oct Average     Zimbabwe  ZWE\n",
              "272830         72.95080  2016  Nov Average     Zimbabwe  ZWE\n",
              "272831        148.26800  2016  Dec Average     Zimbabwe  ZWE\n",
              "\n",
              "[272832 rows x 5 columns]"
            ]
          },
          "metadata": {
            "tags": []
          },
          "execution_count": 5
        }
      ]
    },
    {
      "cell_type": "code",
      "metadata": {
        "id": "XgYcmd_nc0M1",
        "colab": {
          "base_uri": "https://localhost:8080/"
        },
        "outputId": "a2b64c9d-ad7d-4c2b-e64e-2d6a7dbb5ecb"
      },
      "source": [
        "rainfall_data.info()"
      ],
      "execution_count": 6,
      "outputs": [
        {
          "output_type": "stream",
          "text": [
            "<class 'pandas.core.frame.DataFrame'>\n",
            "RangeIndex: 272832 entries, 0 to 272831\n",
            "Data columns (total 5 columns):\n",
            " #   Column           Non-Null Count   Dtype  \n",
            "---  ------           --------------   -----  \n",
            " 0   Rainfall - (MM)  272832 non-null  float64\n",
            " 1   Year             272832 non-null  int64  \n",
            " 2   Statistics       272832 non-null  object \n",
            " 3   Country          272832 non-null  object \n",
            " 4   ISO3             272832 non-null  object \n",
            "dtypes: float64(1), int64(1), object(3)\n",
            "memory usage: 10.4+ MB\n"
          ],
          "name": "stdout"
        }
      ]
    },
    {
      "cell_type": "code",
      "metadata": {
        "id": "S8aspJrItqdj",
        "colab": {
          "base_uri": "https://localhost:8080/",
          "height": 0
        },
        "outputId": "3923af0a-80c9-4406-f494-26ec1668e5db"
      },
      "source": [
        "rainfall_data.describe()"
      ],
      "execution_count": 7,
      "outputs": [
        {
          "output_type": "execute_result",
          "data": {
            "text/html": [
              "<div>\n",
              "<style scoped>\n",
              "    .dataframe tbody tr th:only-of-type {\n",
              "        vertical-align: middle;\n",
              "    }\n",
              "\n",
              "    .dataframe tbody tr th {\n",
              "        vertical-align: top;\n",
              "    }\n",
              "\n",
              "    .dataframe thead th {\n",
              "        text-align: right;\n",
              "    }\n",
              "</style>\n",
              "<table border=\"1\" class=\"dataframe\">\n",
              "  <thead>\n",
              "    <tr style=\"text-align: right;\">\n",
              "      <th></th>\n",
              "      <th>Rainfall - (MM)</th>\n",
              "      <th>Year</th>\n",
              "    </tr>\n",
              "  </thead>\n",
              "  <tbody>\n",
              "    <tr>\n",
              "      <th>count</th>\n",
              "      <td>272832.000000</td>\n",
              "      <td>272832.000000</td>\n",
              "    </tr>\n",
              "    <tr>\n",
              "      <th>mean</th>\n",
              "      <td>103.470868</td>\n",
              "      <td>1958.500000</td>\n",
              "    </tr>\n",
              "    <tr>\n",
              "      <th>std</th>\n",
              "      <td>113.231867</td>\n",
              "      <td>33.485133</td>\n",
              "    </tr>\n",
              "    <tr>\n",
              "      <th>min</th>\n",
              "      <td>0.000000</td>\n",
              "      <td>1901.000000</td>\n",
              "    </tr>\n",
              "    <tr>\n",
              "      <th>25%</th>\n",
              "      <td>24.168375</td>\n",
              "      <td>1929.750000</td>\n",
              "    </tr>\n",
              "    <tr>\n",
              "      <th>50%</th>\n",
              "      <td>66.431550</td>\n",
              "      <td>1958.500000</td>\n",
              "    </tr>\n",
              "    <tr>\n",
              "      <th>75%</th>\n",
              "      <td>149.647250</td>\n",
              "      <td>1987.250000</td>\n",
              "    </tr>\n",
              "    <tr>\n",
              "      <th>max</th>\n",
              "      <td>2699.190000</td>\n",
              "      <td>2016.000000</td>\n",
              "    </tr>\n",
              "  </tbody>\n",
              "</table>\n",
              "</div>"
            ],
            "text/plain": [
              "       Rainfall - (MM)           Year\n",
              "count    272832.000000  272832.000000\n",
              "mean        103.470868    1958.500000\n",
              "std         113.231867      33.485133\n",
              "min           0.000000    1901.000000\n",
              "25%          24.168375    1929.750000\n",
              "50%          66.431550    1958.500000\n",
              "75%         149.647250    1987.250000\n",
              "max        2699.190000    2016.000000"
            ]
          },
          "metadata": {
            "tags": []
          },
          "execution_count": 7
        }
      ]
    },
    {
      "cell_type": "code",
      "metadata": {
        "id": "Pcn0wAV9rNYq",
        "colab": {
          "base_uri": "https://localhost:8080/"
        },
        "outputId": "56379a83-2c31-4d14-fc2c-bfe02b7f267e"
      },
      "source": [
        "# Number of countries\n",
        "len(rainfall_data['Country'].unique())"
      ],
      "execution_count": 8,
      "outputs": [
        {
          "output_type": "execute_result",
          "data": {
            "text/plain": [
              "196"
            ]
          },
          "metadata": {
            "tags": []
          },
          "execution_count": 8
        }
      ]
    },
    {
      "cell_type": "code",
      "metadata": {
        "id": "bJj-REL_rWyA",
        "colab": {
          "base_uri": "https://localhost:8080/"
        },
        "outputId": "88e246db-cf79-46e3-c52d-ad6297456a07"
      },
      "source": [
        "# Number of years (1901 - 2016)\n",
        "len(rainfall_data['Year'].unique())"
      ],
      "execution_count": 9,
      "outputs": [
        {
          "output_type": "execute_result",
          "data": {
            "text/plain": [
              "116"
            ]
          },
          "metadata": {
            "tags": []
          },
          "execution_count": 9
        }
      ]
    },
    {
      "cell_type": "code",
      "metadata": {
        "id": "50c0_t6RpgpW",
        "colab": {
          "base_uri": "https://localhost:8080/",
          "height": 0
        },
        "outputId": "d8bab556-1e6e-47e4-99f0-f0c37e733ede"
      },
      "source": [
        "# One year from Afghanistan\n",
        "rainfall_data.head(12)"
      ],
      "execution_count": 10,
      "outputs": [
        {
          "output_type": "execute_result",
          "data": {
            "text/html": [
              "<div>\n",
              "<style scoped>\n",
              "    .dataframe tbody tr th:only-of-type {\n",
              "        vertical-align: middle;\n",
              "    }\n",
              "\n",
              "    .dataframe tbody tr th {\n",
              "        vertical-align: top;\n",
              "    }\n",
              "\n",
              "    .dataframe thead th {\n",
              "        text-align: right;\n",
              "    }\n",
              "</style>\n",
              "<table border=\"1\" class=\"dataframe\">\n",
              "  <thead>\n",
              "    <tr style=\"text-align: right;\">\n",
              "      <th></th>\n",
              "      <th>Rainfall - (MM)</th>\n",
              "      <th>Year</th>\n",
              "      <th>Statistics</th>\n",
              "      <th>Country</th>\n",
              "      <th>ISO3</th>\n",
              "    </tr>\n",
              "  </thead>\n",
              "  <tbody>\n",
              "    <tr>\n",
              "      <th>0</th>\n",
              "      <td>55.74480</td>\n",
              "      <td>1901</td>\n",
              "      <td>Jan Average</td>\n",
              "      <td>Afghanistan</td>\n",
              "      <td>AFG</td>\n",
              "    </tr>\n",
              "    <tr>\n",
              "      <th>1</th>\n",
              "      <td>13.94800</td>\n",
              "      <td>1901</td>\n",
              "      <td>Feb Average</td>\n",
              "      <td>Afghanistan</td>\n",
              "      <td>AFG</td>\n",
              "    </tr>\n",
              "    <tr>\n",
              "      <th>2</th>\n",
              "      <td>43.84640</td>\n",
              "      <td>1901</td>\n",
              "      <td>Mar Average</td>\n",
              "      <td>Afghanistan</td>\n",
              "      <td>AFG</td>\n",
              "    </tr>\n",
              "    <tr>\n",
              "      <th>3</th>\n",
              "      <td>26.96100</td>\n",
              "      <td>1901</td>\n",
              "      <td>Apr Average</td>\n",
              "      <td>Afghanistan</td>\n",
              "      <td>AFG</td>\n",
              "    </tr>\n",
              "    <tr>\n",
              "      <th>4</th>\n",
              "      <td>52.95790</td>\n",
              "      <td>1901</td>\n",
              "      <td>May Average</td>\n",
              "      <td>Afghanistan</td>\n",
              "      <td>AFG</td>\n",
              "    </tr>\n",
              "    <tr>\n",
              "      <th>5</th>\n",
              "      <td>16.64650</td>\n",
              "      <td>1901</td>\n",
              "      <td>Jun Average</td>\n",
              "      <td>Afghanistan</td>\n",
              "      <td>AFG</td>\n",
              "    </tr>\n",
              "    <tr>\n",
              "      <th>6</th>\n",
              "      <td>7.38656</td>\n",
              "      <td>1901</td>\n",
              "      <td>Jul Average</td>\n",
              "      <td>Afghanistan</td>\n",
              "      <td>AFG</td>\n",
              "    </tr>\n",
              "    <tr>\n",
              "      <th>7</th>\n",
              "      <td>0.59306</td>\n",
              "      <td>1901</td>\n",
              "      <td>Aug Average</td>\n",
              "      <td>Afghanistan</td>\n",
              "      <td>AFG</td>\n",
              "    </tr>\n",
              "    <tr>\n",
              "      <th>8</th>\n",
              "      <td>4.82593</td>\n",
              "      <td>1901</td>\n",
              "      <td>Sep Average</td>\n",
              "      <td>Afghanistan</td>\n",
              "      <td>AFG</td>\n",
              "    </tr>\n",
              "    <tr>\n",
              "      <th>9</th>\n",
              "      <td>11.49720</td>\n",
              "      <td>1901</td>\n",
              "      <td>Oct Average</td>\n",
              "      <td>Afghanistan</td>\n",
              "      <td>AFG</td>\n",
              "    </tr>\n",
              "    <tr>\n",
              "      <th>10</th>\n",
              "      <td>8.61022</td>\n",
              "      <td>1901</td>\n",
              "      <td>Nov Average</td>\n",
              "      <td>Afghanistan</td>\n",
              "      <td>AFG</td>\n",
              "    </tr>\n",
              "    <tr>\n",
              "      <th>11</th>\n",
              "      <td>7.90607</td>\n",
              "      <td>1901</td>\n",
              "      <td>Dec Average</td>\n",
              "      <td>Afghanistan</td>\n",
              "      <td>AFG</td>\n",
              "    </tr>\n",
              "  </tbody>\n",
              "</table>\n",
              "</div>"
            ],
            "text/plain": [
              "    Rainfall - (MM)  Year   Statistics      Country ISO3\n",
              "0          55.74480  1901  Jan Average  Afghanistan  AFG\n",
              "1          13.94800  1901  Feb Average  Afghanistan  AFG\n",
              "2          43.84640  1901  Mar Average  Afghanistan  AFG\n",
              "3          26.96100  1901  Apr Average  Afghanistan  AFG\n",
              "4          52.95790  1901  May Average  Afghanistan  AFG\n",
              "5          16.64650  1901  Jun Average  Afghanistan  AFG\n",
              "6           7.38656  1901  Jul Average  Afghanistan  AFG\n",
              "7           0.59306  1901  Aug Average  Afghanistan  AFG\n",
              "8           4.82593  1901  Sep Average  Afghanistan  AFG\n",
              "9          11.49720  1901  Oct Average  Afghanistan  AFG\n",
              "10          8.61022  1901  Nov Average  Afghanistan  AFG\n",
              "11          7.90607  1901  Dec Average  Afghanistan  AFG"
            ]
          },
          "metadata": {
            "tags": []
          },
          "execution_count": 10
        }
      ]
    },
    {
      "cell_type": "code",
      "metadata": {
        "id": "drkDoVbkjFaJ",
        "colab": {
          "base_uri": "https://localhost:8080/",
          "height": 0
        },
        "outputId": "ac059646-8879-40f5-d341-5b9c2230ad75"
      },
      "source": [
        "# Rain data in years for each country\n",
        "rainfall_df = rainfall_data.groupby(['Year', 'Country', 'ISO3'], as_index=False, axis=0).sum()\n",
        "rainfall_df"
      ],
      "execution_count": 11,
      "outputs": [
        {
          "output_type": "execute_result",
          "data": {
            "text/html": [
              "<div>\n",
              "<style scoped>\n",
              "    .dataframe tbody tr th:only-of-type {\n",
              "        vertical-align: middle;\n",
              "    }\n",
              "\n",
              "    .dataframe tbody tr th {\n",
              "        vertical-align: top;\n",
              "    }\n",
              "\n",
              "    .dataframe thead th {\n",
              "        text-align: right;\n",
              "    }\n",
              "</style>\n",
              "<table border=\"1\" class=\"dataframe\">\n",
              "  <thead>\n",
              "    <tr style=\"text-align: right;\">\n",
              "      <th></th>\n",
              "      <th>Year</th>\n",
              "      <th>Country</th>\n",
              "      <th>ISO3</th>\n",
              "      <th>Rainfall - (MM)</th>\n",
              "    </tr>\n",
              "  </thead>\n",
              "  <tbody>\n",
              "    <tr>\n",
              "      <th>0</th>\n",
              "      <td>1901</td>\n",
              "      <td>Afghanistan</td>\n",
              "      <td>AFG</td>\n",
              "      <td>250.92364</td>\n",
              "    </tr>\n",
              "    <tr>\n",
              "      <th>1</th>\n",
              "      <td>1901</td>\n",
              "      <td>Albania</td>\n",
              "      <td>ALB</td>\n",
              "      <td>1244.13740</td>\n",
              "    </tr>\n",
              "    <tr>\n",
              "      <th>2</th>\n",
              "      <td>1901</td>\n",
              "      <td>Algeria</td>\n",
              "      <td>DZA</td>\n",
              "      <td>113.45278</td>\n",
              "    </tr>\n",
              "    <tr>\n",
              "      <th>3</th>\n",
              "      <td>1901</td>\n",
              "      <td>Andorra</td>\n",
              "      <td>AND</td>\n",
              "      <td>871.31150</td>\n",
              "    </tr>\n",
              "    <tr>\n",
              "      <th>4</th>\n",
              "      <td>1901</td>\n",
              "      <td>Angola</td>\n",
              "      <td>AGO</td>\n",
              "      <td>931.01022</td>\n",
              "    </tr>\n",
              "    <tr>\n",
              "      <th>...</th>\n",
              "      <td>...</td>\n",
              "      <td>...</td>\n",
              "      <td>...</td>\n",
              "      <td>...</td>\n",
              "    </tr>\n",
              "    <tr>\n",
              "      <th>22731</th>\n",
              "      <td>2016</td>\n",
              "      <td>Venezuela</td>\n",
              "      <td>VEN</td>\n",
              "      <td>1844.70330</td>\n",
              "    </tr>\n",
              "    <tr>\n",
              "      <th>22732</th>\n",
              "      <td>2016</td>\n",
              "      <td>Vietnam</td>\n",
              "      <td>VNM</td>\n",
              "      <td>1988.86180</td>\n",
              "    </tr>\n",
              "    <tr>\n",
              "      <th>22733</th>\n",
              "      <td>2016</td>\n",
              "      <td>Yemen</td>\n",
              "      <td>YEM</td>\n",
              "      <td>171.48137</td>\n",
              "    </tr>\n",
              "    <tr>\n",
              "      <th>22734</th>\n",
              "      <td>2016</td>\n",
              "      <td>Zambia</td>\n",
              "      <td>ZMB</td>\n",
              "      <td>803.47810</td>\n",
              "    </tr>\n",
              "    <tr>\n",
              "      <th>22735</th>\n",
              "      <td>2016</td>\n",
              "      <td>Zimbabwe</td>\n",
              "      <td>ZWE</td>\n",
              "      <td>455.13295</td>\n",
              "    </tr>\n",
              "  </tbody>\n",
              "</table>\n",
              "<p>22736 rows × 4 columns</p>\n",
              "</div>"
            ],
            "text/plain": [
              "       Year      Country ISO3  Rainfall - (MM)\n",
              "0      1901  Afghanistan  AFG        250.92364\n",
              "1      1901      Albania  ALB       1244.13740\n",
              "2      1901      Algeria  DZA        113.45278\n",
              "3      1901      Andorra  AND        871.31150\n",
              "4      1901       Angola  AGO        931.01022\n",
              "...     ...          ...  ...              ...\n",
              "22731  2016    Venezuela  VEN       1844.70330\n",
              "22732  2016      Vietnam  VNM       1988.86180\n",
              "22733  2016        Yemen  YEM        171.48137\n",
              "22734  2016       Zambia  ZMB        803.47810\n",
              "22735  2016     Zimbabwe  ZWE        455.13295\n",
              "\n",
              "[22736 rows x 4 columns]"
            ]
          },
          "metadata": {
            "tags": []
          },
          "execution_count": 11
        }
      ]
    },
    {
      "cell_type": "markdown",
      "metadata": {
        "id": "I_viM345p0qr"
      },
      "source": [
        "## Temperature data"
      ]
    },
    {
      "cell_type": "code",
      "metadata": {
        "colab": {
          "base_uri": "https://localhost:8080/",
          "height": 0
        },
        "id": "3y8MO8ly7uUo",
        "outputId": "2034b007-143b-49d6-c258-27e95f2b8b5c"
      },
      "source": [
        "temperature_data"
      ],
      "execution_count": 12,
      "outputs": [
        {
          "output_type": "execute_result",
          "data": {
            "text/html": [
              "<div>\n",
              "<style scoped>\n",
              "    .dataframe tbody tr th:only-of-type {\n",
              "        vertical-align: middle;\n",
              "    }\n",
              "\n",
              "    .dataframe tbody tr th {\n",
              "        vertical-align: top;\n",
              "    }\n",
              "\n",
              "    .dataframe thead th {\n",
              "        text-align: right;\n",
              "    }\n",
              "</style>\n",
              "<table border=\"1\" class=\"dataframe\">\n",
              "  <thead>\n",
              "    <tr style=\"text-align: right;\">\n",
              "      <th></th>\n",
              "      <th>Temperature - (Celsius)</th>\n",
              "      <th>Year</th>\n",
              "      <th>Statistics</th>\n",
              "      <th>Country</th>\n",
              "      <th>ISO3</th>\n",
              "    </tr>\n",
              "  </thead>\n",
              "  <tbody>\n",
              "    <tr>\n",
              "      <th>0</th>\n",
              "      <td>-0.03780</td>\n",
              "      <td>1901</td>\n",
              "      <td>Jan Average</td>\n",
              "      <td>Afghanistan</td>\n",
              "      <td>AFG</td>\n",
              "    </tr>\n",
              "    <tr>\n",
              "      <th>1</th>\n",
              "      <td>2.42348</td>\n",
              "      <td>1901</td>\n",
              "      <td>Feb Average</td>\n",
              "      <td>Afghanistan</td>\n",
              "      <td>AFG</td>\n",
              "    </tr>\n",
              "    <tr>\n",
              "      <th>2</th>\n",
              "      <td>9.36230</td>\n",
              "      <td>1901</td>\n",
              "      <td>Mar Average</td>\n",
              "      <td>Afghanistan</td>\n",
              "      <td>AFG</td>\n",
              "    </tr>\n",
              "    <tr>\n",
              "      <th>3</th>\n",
              "      <td>13.55640</td>\n",
              "      <td>1901</td>\n",
              "      <td>Apr Average</td>\n",
              "      <td>Afghanistan</td>\n",
              "      <td>AFG</td>\n",
              "    </tr>\n",
              "    <tr>\n",
              "      <th>4</th>\n",
              "      <td>18.15090</td>\n",
              "      <td>1901</td>\n",
              "      <td>May Average</td>\n",
              "      <td>Afghanistan</td>\n",
              "      <td>AFG</td>\n",
              "    </tr>\n",
              "    <tr>\n",
              "      <th>...</th>\n",
              "      <td>...</td>\n",
              "      <td>...</td>\n",
              "      <td>...</td>\n",
              "      <td>...</td>\n",
              "      <td>...</td>\n",
              "    </tr>\n",
              "    <tr>\n",
              "      <th>272827</th>\n",
              "      <td>18.75550</td>\n",
              "      <td>2016</td>\n",
              "      <td>Aug Average</td>\n",
              "      <td>Zimbabwe</td>\n",
              "      <td>ZWE</td>\n",
              "    </tr>\n",
              "    <tr>\n",
              "      <th>272828</th>\n",
              "      <td>22.99190</td>\n",
              "      <td>2016</td>\n",
              "      <td>Sep Average</td>\n",
              "      <td>Zimbabwe</td>\n",
              "      <td>ZWE</td>\n",
              "    </tr>\n",
              "    <tr>\n",
              "      <th>272829</th>\n",
              "      <td>25.86640</td>\n",
              "      <td>2016</td>\n",
              "      <td>Oct Average</td>\n",
              "      <td>Zimbabwe</td>\n",
              "      <td>ZWE</td>\n",
              "    </tr>\n",
              "    <tr>\n",
              "      <th>272830</th>\n",
              "      <td>25.85150</td>\n",
              "      <td>2016</td>\n",
              "      <td>Nov Average</td>\n",
              "      <td>Zimbabwe</td>\n",
              "      <td>ZWE</td>\n",
              "    </tr>\n",
              "    <tr>\n",
              "      <th>272831</th>\n",
              "      <td>25.06930</td>\n",
              "      <td>2016</td>\n",
              "      <td>Dec Average</td>\n",
              "      <td>Zimbabwe</td>\n",
              "      <td>ZWE</td>\n",
              "    </tr>\n",
              "  </tbody>\n",
              "</table>\n",
              "<p>272832 rows × 5 columns</p>\n",
              "</div>"
            ],
            "text/plain": [
              "        Temperature - (Celsius)  Year   Statistics      Country ISO3\n",
              "0                      -0.03780  1901  Jan Average  Afghanistan  AFG\n",
              "1                       2.42348  1901  Feb Average  Afghanistan  AFG\n",
              "2                       9.36230  1901  Mar Average  Afghanistan  AFG\n",
              "3                      13.55640  1901  Apr Average  Afghanistan  AFG\n",
              "4                      18.15090  1901  May Average  Afghanistan  AFG\n",
              "...                         ...   ...          ...          ...  ...\n",
              "272827                 18.75550  2016  Aug Average     Zimbabwe  ZWE\n",
              "272828                 22.99190  2016  Sep Average     Zimbabwe  ZWE\n",
              "272829                 25.86640  2016  Oct Average     Zimbabwe  ZWE\n",
              "272830                 25.85150  2016  Nov Average     Zimbabwe  ZWE\n",
              "272831                 25.06930  2016  Dec Average     Zimbabwe  ZWE\n",
              "\n",
              "[272832 rows x 5 columns]"
            ]
          },
          "metadata": {
            "tags": []
          },
          "execution_count": 12
        }
      ]
    },
    {
      "cell_type": "code",
      "metadata": {
        "id": "JpBCszaQdRAf",
        "colab": {
          "base_uri": "https://localhost:8080/"
        },
        "outputId": "a9e4eb0c-1c45-4c5a-da93-afc1a3f11478"
      },
      "source": [
        "temperature_data.info()"
      ],
      "execution_count": 13,
      "outputs": [
        {
          "output_type": "stream",
          "text": [
            "<class 'pandas.core.frame.DataFrame'>\n",
            "RangeIndex: 272832 entries, 0 to 272831\n",
            "Data columns (total 5 columns):\n",
            " #   Column                   Non-Null Count   Dtype  \n",
            "---  ------                   --------------   -----  \n",
            " 0   Temperature - (Celsius)  272832 non-null  float64\n",
            " 1   Year                     272832 non-null  int64  \n",
            " 2   Statistics               272832 non-null  object \n",
            " 3   Country                  272832 non-null  object \n",
            " 4   ISO3                     272832 non-null  object \n",
            "dtypes: float64(1), int64(1), object(3)\n",
            "memory usage: 10.4+ MB\n"
          ],
          "name": "stdout"
        }
      ]
    },
    {
      "cell_type": "code",
      "metadata": {
        "id": "rVbDN0N7tvYU",
        "colab": {
          "base_uri": "https://localhost:8080/",
          "height": 0
        },
        "outputId": "6eb384c4-48fd-43fc-89a3-15a149d5c202"
      },
      "source": [
        "temperature_data.describe()"
      ],
      "execution_count": 14,
      "outputs": [
        {
          "output_type": "execute_result",
          "data": {
            "text/html": [
              "<div>\n",
              "<style scoped>\n",
              "    .dataframe tbody tr th:only-of-type {\n",
              "        vertical-align: middle;\n",
              "    }\n",
              "\n",
              "    .dataframe tbody tr th {\n",
              "        vertical-align: top;\n",
              "    }\n",
              "\n",
              "    .dataframe thead th {\n",
              "        text-align: right;\n",
              "    }\n",
              "</style>\n",
              "<table border=\"1\" class=\"dataframe\">\n",
              "  <thead>\n",
              "    <tr style=\"text-align: right;\">\n",
              "      <th></th>\n",
              "      <th>Temperature - (Celsius)</th>\n",
              "      <th>Year</th>\n",
              "    </tr>\n",
              "  </thead>\n",
              "  <tbody>\n",
              "    <tr>\n",
              "      <th>count</th>\n",
              "      <td>272832.000000</td>\n",
              "      <td>272832.000000</td>\n",
              "    </tr>\n",
              "    <tr>\n",
              "      <th>mean</th>\n",
              "      <td>18.631498</td>\n",
              "      <td>1958.500000</td>\n",
              "    </tr>\n",
              "    <tr>\n",
              "      <th>std</th>\n",
              "      <td>10.248635</td>\n",
              "      <td>33.485133</td>\n",
              "    </tr>\n",
              "    <tr>\n",
              "      <th>min</th>\n",
              "      <td>-34.121000</td>\n",
              "      <td>1901.000000</td>\n",
              "    </tr>\n",
              "    <tr>\n",
              "      <th>25%</th>\n",
              "      <td>13.231575</td>\n",
              "      <td>1929.750000</td>\n",
              "    </tr>\n",
              "    <tr>\n",
              "      <th>50%</th>\n",
              "      <td>22.736300</td>\n",
              "      <td>1958.500000</td>\n",
              "    </tr>\n",
              "    <tr>\n",
              "      <th>75%</th>\n",
              "      <td>25.797700</td>\n",
              "      <td>1987.250000</td>\n",
              "    </tr>\n",
              "    <tr>\n",
              "      <th>max</th>\n",
              "      <td>38.566900</td>\n",
              "      <td>2016.000000</td>\n",
              "    </tr>\n",
              "  </tbody>\n",
              "</table>\n",
              "</div>"
            ],
            "text/plain": [
              "       Temperature - (Celsius)           Year\n",
              "count            272832.000000  272832.000000\n",
              "mean                 18.631498    1958.500000\n",
              "std                  10.248635      33.485133\n",
              "min                 -34.121000    1901.000000\n",
              "25%                  13.231575    1929.750000\n",
              "50%                  22.736300    1958.500000\n",
              "75%                  25.797700    1987.250000\n",
              "max                  38.566900    2016.000000"
            ]
          },
          "metadata": {
            "tags": []
          },
          "execution_count": 14
        }
      ]
    },
    {
      "cell_type": "code",
      "metadata": {
        "id": "BRtnmE4ksAPb",
        "colab": {
          "base_uri": "https://localhost:8080/"
        },
        "outputId": "2f814826-1077-4c5f-9767-74911ea124b5"
      },
      "source": [
        "# Number of countries\n",
        "len(temperature_data['Country'].unique())"
      ],
      "execution_count": 15,
      "outputs": [
        {
          "output_type": "execute_result",
          "data": {
            "text/plain": [
              "196"
            ]
          },
          "metadata": {
            "tags": []
          },
          "execution_count": 15
        }
      ]
    },
    {
      "cell_type": "code",
      "metadata": {
        "id": "NaRGRGfDsC9z",
        "colab": {
          "base_uri": "https://localhost:8080/"
        },
        "outputId": "06adb7ed-a9b2-489c-85f4-627101264af9"
      },
      "source": [
        "# Number of years (1901 - 2016)\n",
        "len(temperature_data['Year'].unique())"
      ],
      "execution_count": 16,
      "outputs": [
        {
          "output_type": "execute_result",
          "data": {
            "text/plain": [
              "116"
            ]
          },
          "metadata": {
            "tags": []
          },
          "execution_count": 16
        }
      ]
    },
    {
      "cell_type": "code",
      "metadata": {
        "id": "85_PPt6cs1as",
        "colab": {
          "base_uri": "https://localhost:8080/",
          "height": 0
        },
        "outputId": "51487c59-2731-4228-8045-fd7626cf4355"
      },
      "source": [
        "# One year from Afghanistan\n",
        "temperature_data.head(12)"
      ],
      "execution_count": 17,
      "outputs": [
        {
          "output_type": "execute_result",
          "data": {
            "text/html": [
              "<div>\n",
              "<style scoped>\n",
              "    .dataframe tbody tr th:only-of-type {\n",
              "        vertical-align: middle;\n",
              "    }\n",
              "\n",
              "    .dataframe tbody tr th {\n",
              "        vertical-align: top;\n",
              "    }\n",
              "\n",
              "    .dataframe thead th {\n",
              "        text-align: right;\n",
              "    }\n",
              "</style>\n",
              "<table border=\"1\" class=\"dataframe\">\n",
              "  <thead>\n",
              "    <tr style=\"text-align: right;\">\n",
              "      <th></th>\n",
              "      <th>Temperature - (Celsius)</th>\n",
              "      <th>Year</th>\n",
              "      <th>Statistics</th>\n",
              "      <th>Country</th>\n",
              "      <th>ISO3</th>\n",
              "    </tr>\n",
              "  </thead>\n",
              "  <tbody>\n",
              "    <tr>\n",
              "      <th>0</th>\n",
              "      <td>-0.03780</td>\n",
              "      <td>1901</td>\n",
              "      <td>Jan Average</td>\n",
              "      <td>Afghanistan</td>\n",
              "      <td>AFG</td>\n",
              "    </tr>\n",
              "    <tr>\n",
              "      <th>1</th>\n",
              "      <td>2.42348</td>\n",
              "      <td>1901</td>\n",
              "      <td>Feb Average</td>\n",
              "      <td>Afghanistan</td>\n",
              "      <td>AFG</td>\n",
              "    </tr>\n",
              "    <tr>\n",
              "      <th>2</th>\n",
              "      <td>9.36230</td>\n",
              "      <td>1901</td>\n",
              "      <td>Mar Average</td>\n",
              "      <td>Afghanistan</td>\n",
              "      <td>AFG</td>\n",
              "    </tr>\n",
              "    <tr>\n",
              "      <th>3</th>\n",
              "      <td>13.55640</td>\n",
              "      <td>1901</td>\n",
              "      <td>Apr Average</td>\n",
              "      <td>Afghanistan</td>\n",
              "      <td>AFG</td>\n",
              "    </tr>\n",
              "    <tr>\n",
              "      <th>4</th>\n",
              "      <td>18.15090</td>\n",
              "      <td>1901</td>\n",
              "      <td>May Average</td>\n",
              "      <td>Afghanistan</td>\n",
              "      <td>AFG</td>\n",
              "    </tr>\n",
              "    <tr>\n",
              "      <th>5</th>\n",
              "      <td>22.17270</td>\n",
              "      <td>1901</td>\n",
              "      <td>Jun Average</td>\n",
              "      <td>Afghanistan</td>\n",
              "      <td>AFG</td>\n",
              "    </tr>\n",
              "    <tr>\n",
              "      <th>6</th>\n",
              "      <td>25.37870</td>\n",
              "      <td>1901</td>\n",
              "      <td>Jul Average</td>\n",
              "      <td>Afghanistan</td>\n",
              "      <td>AFG</td>\n",
              "    </tr>\n",
              "    <tr>\n",
              "      <th>7</th>\n",
              "      <td>23.66520</td>\n",
              "      <td>1901</td>\n",
              "      <td>Aug Average</td>\n",
              "      <td>Afghanistan</td>\n",
              "      <td>AFG</td>\n",
              "    </tr>\n",
              "    <tr>\n",
              "      <th>8</th>\n",
              "      <td>19.46550</td>\n",
              "      <td>1901</td>\n",
              "      <td>Sep Average</td>\n",
              "      <td>Afghanistan</td>\n",
              "      <td>AFG</td>\n",
              "    </tr>\n",
              "    <tr>\n",
              "      <th>9</th>\n",
              "      <td>11.28370</td>\n",
              "      <td>1901</td>\n",
              "      <td>Oct Average</td>\n",
              "      <td>Afghanistan</td>\n",
              "      <td>AFG</td>\n",
              "    </tr>\n",
              "    <tr>\n",
              "      <th>10</th>\n",
              "      <td>8.63190</td>\n",
              "      <td>1901</td>\n",
              "      <td>Nov Average</td>\n",
              "      <td>Afghanistan</td>\n",
              "      <td>AFG</td>\n",
              "    </tr>\n",
              "    <tr>\n",
              "      <th>11</th>\n",
              "      <td>4.02148</td>\n",
              "      <td>1901</td>\n",
              "      <td>Dec Average</td>\n",
              "      <td>Afghanistan</td>\n",
              "      <td>AFG</td>\n",
              "    </tr>\n",
              "  </tbody>\n",
              "</table>\n",
              "</div>"
            ],
            "text/plain": [
              "    Temperature - (Celsius)  Year   Statistics      Country ISO3\n",
              "0                  -0.03780  1901  Jan Average  Afghanistan  AFG\n",
              "1                   2.42348  1901  Feb Average  Afghanistan  AFG\n",
              "2                   9.36230  1901  Mar Average  Afghanistan  AFG\n",
              "3                  13.55640  1901  Apr Average  Afghanistan  AFG\n",
              "4                  18.15090  1901  May Average  Afghanistan  AFG\n",
              "5                  22.17270  1901  Jun Average  Afghanistan  AFG\n",
              "6                  25.37870  1901  Jul Average  Afghanistan  AFG\n",
              "7                  23.66520  1901  Aug Average  Afghanistan  AFG\n",
              "8                  19.46550  1901  Sep Average  Afghanistan  AFG\n",
              "9                  11.28370  1901  Oct Average  Afghanistan  AFG\n",
              "10                  8.63190  1901  Nov Average  Afghanistan  AFG\n",
              "11                  4.02148  1901  Dec Average  Afghanistan  AFG"
            ]
          },
          "metadata": {
            "tags": []
          },
          "execution_count": 17
        }
      ]
    },
    {
      "cell_type": "code",
      "metadata": {
        "id": "dunMxVu5sF1E",
        "colab": {
          "base_uri": "https://localhost:8080/",
          "height": 0
        },
        "outputId": "39a12d21-e6ed-449b-9410-08c556bdf6a9"
      },
      "source": [
        "# Average temperature data in years for each country\n",
        "temperature_df =temperature_data.groupby(['Year', 'Country', 'ISO3'], as_index=False, axis=0).mean()\n",
        "temperature_df"
      ],
      "execution_count": 18,
      "outputs": [
        {
          "output_type": "execute_result",
          "data": {
            "text/html": [
              "<div>\n",
              "<style scoped>\n",
              "    .dataframe tbody tr th:only-of-type {\n",
              "        vertical-align: middle;\n",
              "    }\n",
              "\n",
              "    .dataframe tbody tr th {\n",
              "        vertical-align: top;\n",
              "    }\n",
              "\n",
              "    .dataframe thead th {\n",
              "        text-align: right;\n",
              "    }\n",
              "</style>\n",
              "<table border=\"1\" class=\"dataframe\">\n",
              "  <thead>\n",
              "    <tr style=\"text-align: right;\">\n",
              "      <th></th>\n",
              "      <th>Year</th>\n",
              "      <th>Country</th>\n",
              "      <th>ISO3</th>\n",
              "      <th>Temperature - (Celsius)</th>\n",
              "    </tr>\n",
              "  </thead>\n",
              "  <tbody>\n",
              "    <tr>\n",
              "      <th>0</th>\n",
              "      <td>1901</td>\n",
              "      <td>Afghanistan</td>\n",
              "      <td>AFG</td>\n",
              "      <td>13.172872</td>\n",
              "    </tr>\n",
              "    <tr>\n",
              "      <th>1</th>\n",
              "      <td>1901</td>\n",
              "      <td>Albania</td>\n",
              "      <td>ALB</td>\n",
              "      <td>11.030938</td>\n",
              "    </tr>\n",
              "    <tr>\n",
              "      <th>2</th>\n",
              "      <td>1901</td>\n",
              "      <td>Algeria</td>\n",
              "      <td>DZA</td>\n",
              "      <td>22.290008</td>\n",
              "    </tr>\n",
              "    <tr>\n",
              "      <th>3</th>\n",
              "      <td>1901</td>\n",
              "      <td>Andorra</td>\n",
              "      <td>AND</td>\n",
              "      <td>9.960649</td>\n",
              "    </tr>\n",
              "    <tr>\n",
              "      <th>4</th>\n",
              "      <td>1901</td>\n",
              "      <td>Angola</td>\n",
              "      <td>AGO</td>\n",
              "      <td>21.365725</td>\n",
              "    </tr>\n",
              "    <tr>\n",
              "      <th>...</th>\n",
              "      <td>...</td>\n",
              "      <td>...</td>\n",
              "      <td>...</td>\n",
              "      <td>...</td>\n",
              "    </tr>\n",
              "    <tr>\n",
              "      <th>22731</th>\n",
              "      <td>2016</td>\n",
              "      <td>Venezuela</td>\n",
              "      <td>VEN</td>\n",
              "      <td>26.478200</td>\n",
              "    </tr>\n",
              "    <tr>\n",
              "      <th>22732</th>\n",
              "      <td>2016</td>\n",
              "      <td>Vietnam</td>\n",
              "      <td>VNM</td>\n",
              "      <td>25.073158</td>\n",
              "    </tr>\n",
              "    <tr>\n",
              "      <th>22733</th>\n",
              "      <td>2016</td>\n",
              "      <td>Yemen</td>\n",
              "      <td>YEM</td>\n",
              "      <td>24.221200</td>\n",
              "    </tr>\n",
              "    <tr>\n",
              "      <th>22734</th>\n",
              "      <td>2016</td>\n",
              "      <td>Zambia</td>\n",
              "      <td>ZMB</td>\n",
              "      <td>22.737050</td>\n",
              "    </tr>\n",
              "    <tr>\n",
              "      <th>22735</th>\n",
              "      <td>2016</td>\n",
              "      <td>Zimbabwe</td>\n",
              "      <td>ZWE</td>\n",
              "      <td>22.310167</td>\n",
              "    </tr>\n",
              "  </tbody>\n",
              "</table>\n",
              "<p>22736 rows × 4 columns</p>\n",
              "</div>"
            ],
            "text/plain": [
              "       Year      Country ISO3  Temperature - (Celsius)\n",
              "0      1901  Afghanistan  AFG                13.172872\n",
              "1      1901      Albania  ALB                11.030938\n",
              "2      1901      Algeria  DZA                22.290008\n",
              "3      1901      Andorra  AND                 9.960649\n",
              "4      1901       Angola  AGO                21.365725\n",
              "...     ...          ...  ...                      ...\n",
              "22731  2016    Venezuela  VEN                26.478200\n",
              "22732  2016      Vietnam  VNM                25.073158\n",
              "22733  2016        Yemen  YEM                24.221200\n",
              "22734  2016       Zambia  ZMB                22.737050\n",
              "22735  2016     Zimbabwe  ZWE                22.310167\n",
              "\n",
              "[22736 rows x 4 columns]"
            ]
          },
          "metadata": {
            "tags": []
          },
          "execution_count": 18
        }
      ]
    },
    {
      "cell_type": "markdown",
      "metadata": {
        "id": "bfkBFYYk0id8"
      },
      "source": [
        "\n",
        "## Yield data"
      ]
    },
    {
      "cell_type": "code",
      "metadata": {
        "colab": {
          "base_uri": "https://localhost:8080/",
          "height": 0
        },
        "id": "6nx-zeo1z12V",
        "outputId": "af8fa3f8-d992-412b-fef1-b6428694a5c4"
      },
      "source": [
        "yield_data"
      ],
      "execution_count": 19,
      "outputs": [
        {
          "output_type": "execute_result",
          "data": {
            "text/html": [
              "<div>\n",
              "<style scoped>\n",
              "    .dataframe tbody tr th:only-of-type {\n",
              "        vertical-align: middle;\n",
              "    }\n",
              "\n",
              "    .dataframe tbody tr th {\n",
              "        vertical-align: top;\n",
              "    }\n",
              "\n",
              "    .dataframe thead th {\n",
              "        text-align: right;\n",
              "    }\n",
              "</style>\n",
              "<table border=\"1\" class=\"dataframe\">\n",
              "  <thead>\n",
              "    <tr style=\"text-align: right;\">\n",
              "      <th></th>\n",
              "      <th>Domain</th>\n",
              "      <th>Area</th>\n",
              "      <th>Element</th>\n",
              "      <th>Item</th>\n",
              "      <th>Year</th>\n",
              "      <th>Unit</th>\n",
              "      <th>Value</th>\n",
              "    </tr>\n",
              "  </thead>\n",
              "  <tbody>\n",
              "    <tr>\n",
              "      <th>0</th>\n",
              "      <td>Crops</td>\n",
              "      <td>Afghanistan</td>\n",
              "      <td>Yield</td>\n",
              "      <td>Maize</td>\n",
              "      <td>1961</td>\n",
              "      <td>hg/ha</td>\n",
              "      <td>14000</td>\n",
              "    </tr>\n",
              "    <tr>\n",
              "      <th>1</th>\n",
              "      <td>Crops</td>\n",
              "      <td>Afghanistan</td>\n",
              "      <td>Yield</td>\n",
              "      <td>Maize</td>\n",
              "      <td>1962</td>\n",
              "      <td>hg/ha</td>\n",
              "      <td>14000</td>\n",
              "    </tr>\n",
              "    <tr>\n",
              "      <th>2</th>\n",
              "      <td>Crops</td>\n",
              "      <td>Afghanistan</td>\n",
              "      <td>Yield</td>\n",
              "      <td>Maize</td>\n",
              "      <td>1963</td>\n",
              "      <td>hg/ha</td>\n",
              "      <td>14260</td>\n",
              "    </tr>\n",
              "    <tr>\n",
              "      <th>3</th>\n",
              "      <td>Crops</td>\n",
              "      <td>Afghanistan</td>\n",
              "      <td>Yield</td>\n",
              "      <td>Maize</td>\n",
              "      <td>1964</td>\n",
              "      <td>hg/ha</td>\n",
              "      <td>14257</td>\n",
              "    </tr>\n",
              "    <tr>\n",
              "      <th>4</th>\n",
              "      <td>Crops</td>\n",
              "      <td>Afghanistan</td>\n",
              "      <td>Yield</td>\n",
              "      <td>Maize</td>\n",
              "      <td>1965</td>\n",
              "      <td>hg/ha</td>\n",
              "      <td>14400</td>\n",
              "    </tr>\n",
              "    <tr>\n",
              "      <th>...</th>\n",
              "      <td>...</td>\n",
              "      <td>...</td>\n",
              "      <td>...</td>\n",
              "      <td>...</td>\n",
              "      <td>...</td>\n",
              "      <td>...</td>\n",
              "      <td>...</td>\n",
              "    </tr>\n",
              "    <tr>\n",
              "      <th>58760</th>\n",
              "      <td>Crops</td>\n",
              "      <td>Zimbabwe</td>\n",
              "      <td>Yield</td>\n",
              "      <td>Wheat</td>\n",
              "      <td>2015</td>\n",
              "      <td>hg/ha</td>\n",
              "      <td>20486</td>\n",
              "    </tr>\n",
              "    <tr>\n",
              "      <th>58761</th>\n",
              "      <td>Crops</td>\n",
              "      <td>Zimbabwe</td>\n",
              "      <td>Yield</td>\n",
              "      <td>Wheat</td>\n",
              "      <td>2016</td>\n",
              "      <td>hg/ha</td>\n",
              "      <td>19013</td>\n",
              "    </tr>\n",
              "    <tr>\n",
              "      <th>58762</th>\n",
              "      <td>Crops</td>\n",
              "      <td>Zimbabwe</td>\n",
              "      <td>Yield</td>\n",
              "      <td>Wheat</td>\n",
              "      <td>2017</td>\n",
              "      <td>hg/ha</td>\n",
              "      <td>17542</td>\n",
              "    </tr>\n",
              "    <tr>\n",
              "      <th>58763</th>\n",
              "      <td>Crops</td>\n",
              "      <td>Zimbabwe</td>\n",
              "      <td>Yield</td>\n",
              "      <td>Wheat</td>\n",
              "      <td>2018</td>\n",
              "      <td>hg/ha</td>\n",
              "      <td>16379</td>\n",
              "    </tr>\n",
              "    <tr>\n",
              "      <th>58764</th>\n",
              "      <td>Crops</td>\n",
              "      <td>Zimbabwe</td>\n",
              "      <td>Yield</td>\n",
              "      <td>Wheat</td>\n",
              "      <td>2019</td>\n",
              "      <td>hg/ha</td>\n",
              "      <td>15891</td>\n",
              "    </tr>\n",
              "  </tbody>\n",
              "</table>\n",
              "<p>58765 rows × 7 columns</p>\n",
              "</div>"
            ],
            "text/plain": [
              "      Domain         Area Element   Item  Year   Unit  Value\n",
              "0      Crops  Afghanistan   Yield  Maize  1961  hg/ha  14000\n",
              "1      Crops  Afghanistan   Yield  Maize  1962  hg/ha  14000\n",
              "2      Crops  Afghanistan   Yield  Maize  1963  hg/ha  14260\n",
              "3      Crops  Afghanistan   Yield  Maize  1964  hg/ha  14257\n",
              "4      Crops  Afghanistan   Yield  Maize  1965  hg/ha  14400\n",
              "...      ...          ...     ...    ...   ...    ...    ...\n",
              "58760  Crops     Zimbabwe   Yield  Wheat  2015  hg/ha  20486\n",
              "58761  Crops     Zimbabwe   Yield  Wheat  2016  hg/ha  19013\n",
              "58762  Crops     Zimbabwe   Yield  Wheat  2017  hg/ha  17542\n",
              "58763  Crops     Zimbabwe   Yield  Wheat  2018  hg/ha  16379\n",
              "58764  Crops     Zimbabwe   Yield  Wheat  2019  hg/ha  15891\n",
              "\n",
              "[58765 rows x 7 columns]"
            ]
          },
          "metadata": {
            "tags": []
          },
          "execution_count": 19
        }
      ]
    },
    {
      "cell_type": "code",
      "metadata": {
        "id": "zR7YUI0sdj3m",
        "colab": {
          "base_uri": "https://localhost:8080/"
        },
        "outputId": "97c84c4f-aed5-43da-ebfe-3a906db0db45"
      },
      "source": [
        "yield_data.info()"
      ],
      "execution_count": 20,
      "outputs": [
        {
          "output_type": "stream",
          "text": [
            "<class 'pandas.core.frame.DataFrame'>\n",
            "RangeIndex: 58765 entries, 0 to 58764\n",
            "Data columns (total 7 columns):\n",
            " #   Column   Non-Null Count  Dtype \n",
            "---  ------   --------------  ----- \n",
            " 0   Domain   58765 non-null  object\n",
            " 1   Area     58765 non-null  object\n",
            " 2   Element  58765 non-null  object\n",
            " 3   Item     58765 non-null  object\n",
            " 4   Year     58765 non-null  int64 \n",
            " 5   Unit     58765 non-null  object\n",
            " 6   Value    58765 non-null  int64 \n",
            "dtypes: int64(2), object(5)\n",
            "memory usage: 3.1+ MB\n"
          ],
          "name": "stdout"
        }
      ]
    },
    {
      "cell_type": "code",
      "metadata": {
        "id": "40WUy9afpI0L",
        "colab": {
          "base_uri": "https://localhost:8080/",
          "height": 0
        },
        "outputId": "c7e37599-79c2-4515-9ec5-3b67006813ad"
      },
      "source": [
        "yield_data.describe()"
      ],
      "execution_count": 21,
      "outputs": [
        {
          "output_type": "execute_result",
          "data": {
            "text/html": [
              "<div>\n",
              "<style scoped>\n",
              "    .dataframe tbody tr th:only-of-type {\n",
              "        vertical-align: middle;\n",
              "    }\n",
              "\n",
              "    .dataframe tbody tr th {\n",
              "        vertical-align: top;\n",
              "    }\n",
              "\n",
              "    .dataframe thead th {\n",
              "        text-align: right;\n",
              "    }\n",
              "</style>\n",
              "<table border=\"1\" class=\"dataframe\">\n",
              "  <thead>\n",
              "    <tr style=\"text-align: right;\">\n",
              "      <th></th>\n",
              "      <th>Year</th>\n",
              "      <th>Value</th>\n",
              "    </tr>\n",
              "  </thead>\n",
              "  <tbody>\n",
              "    <tr>\n",
              "      <th>count</th>\n",
              "      <td>58765.000000</td>\n",
              "      <td>58765.000000</td>\n",
              "    </tr>\n",
              "    <tr>\n",
              "      <th>mean</th>\n",
              "      <td>1991.205343</td>\n",
              "      <td>63334.130894</td>\n",
              "    </tr>\n",
              "    <tr>\n",
              "      <th>std</th>\n",
              "      <td>16.952487</td>\n",
              "      <td>69854.898620</td>\n",
              "    </tr>\n",
              "    <tr>\n",
              "      <th>min</th>\n",
              "      <td>1961.000000</td>\n",
              "      <td>0.000000</td>\n",
              "    </tr>\n",
              "    <tr>\n",
              "      <th>25%</th>\n",
              "      <td>1977.000000</td>\n",
              "      <td>15738.000000</td>\n",
              "    </tr>\n",
              "    <tr>\n",
              "      <th>50%</th>\n",
              "      <td>1992.000000</td>\n",
              "      <td>37315.000000</td>\n",
              "    </tr>\n",
              "    <tr>\n",
              "      <th>75%</th>\n",
              "      <td>2006.000000</td>\n",
              "      <td>87439.000000</td>\n",
              "    </tr>\n",
              "    <tr>\n",
              "      <th>max</th>\n",
              "      <td>2019.000000</td>\n",
              "      <td>1000000.000000</td>\n",
              "    </tr>\n",
              "  </tbody>\n",
              "</table>\n",
              "</div>"
            ],
            "text/plain": [
              "               Year           Value\n",
              "count  58765.000000    58765.000000\n",
              "mean    1991.205343    63334.130894\n",
              "std       16.952487    69854.898620\n",
              "min     1961.000000        0.000000\n",
              "25%     1977.000000    15738.000000\n",
              "50%     1992.000000    37315.000000\n",
              "75%     2006.000000    87439.000000\n",
              "max     2019.000000  1000000.000000"
            ]
          },
          "metadata": {
            "tags": []
          },
          "execution_count": 21
        }
      ]
    },
    {
      "cell_type": "code",
      "metadata": {
        "id": "-VNAUZncuF5j",
        "colab": {
          "base_uri": "https://localhost:8080/"
        },
        "outputId": "a9662423-289a-4943-ea81-fbb3939e045f"
      },
      "source": [
        "# Number of countries\n",
        "len(yield_data['Area'].unique())"
      ],
      "execution_count": 22,
      "outputs": [
        {
          "output_type": "execute_result",
          "data": {
            "text/plain": [
              "205"
            ]
          },
          "metadata": {
            "tags": []
          },
          "execution_count": 22
        }
      ]
    },
    {
      "cell_type": "code",
      "metadata": {
        "id": "35jAaXZcuMln",
        "colab": {
          "base_uri": "https://localhost:8080/"
        },
        "outputId": "56f903bb-211b-4cd3-c623-007c83a03244"
      },
      "source": [
        "# Number of years (1961 - 2019)\n",
        "len(yield_data['Year'].unique())"
      ],
      "execution_count": 23,
      "outputs": [
        {
          "output_type": "execute_result",
          "data": {
            "text/plain": [
              "59"
            ]
          },
          "metadata": {
            "tags": []
          },
          "execution_count": 23
        }
      ]
    },
    {
      "cell_type": "code",
      "metadata": {
        "id": "UL9BPJz2uxqv",
        "colab": {
          "base_uri": "https://localhost:8080/",
          "height": 0
        },
        "outputId": "05f8dec8-4c33-491a-d2d0-9b818e9d2479"
      },
      "source": [
        "# Remove unnecessary columns\n",
        "yield_df = yield_data.drop(['Domain', 'Element'], axis=1)\n",
        "yield_df"
      ],
      "execution_count": 24,
      "outputs": [
        {
          "output_type": "execute_result",
          "data": {
            "text/html": [
              "<div>\n",
              "<style scoped>\n",
              "    .dataframe tbody tr th:only-of-type {\n",
              "        vertical-align: middle;\n",
              "    }\n",
              "\n",
              "    .dataframe tbody tr th {\n",
              "        vertical-align: top;\n",
              "    }\n",
              "\n",
              "    .dataframe thead th {\n",
              "        text-align: right;\n",
              "    }\n",
              "</style>\n",
              "<table border=\"1\" class=\"dataframe\">\n",
              "  <thead>\n",
              "    <tr style=\"text-align: right;\">\n",
              "      <th></th>\n",
              "      <th>Area</th>\n",
              "      <th>Item</th>\n",
              "      <th>Year</th>\n",
              "      <th>Unit</th>\n",
              "      <th>Value</th>\n",
              "    </tr>\n",
              "  </thead>\n",
              "  <tbody>\n",
              "    <tr>\n",
              "      <th>0</th>\n",
              "      <td>Afghanistan</td>\n",
              "      <td>Maize</td>\n",
              "      <td>1961</td>\n",
              "      <td>hg/ha</td>\n",
              "      <td>14000</td>\n",
              "    </tr>\n",
              "    <tr>\n",
              "      <th>1</th>\n",
              "      <td>Afghanistan</td>\n",
              "      <td>Maize</td>\n",
              "      <td>1962</td>\n",
              "      <td>hg/ha</td>\n",
              "      <td>14000</td>\n",
              "    </tr>\n",
              "    <tr>\n",
              "      <th>2</th>\n",
              "      <td>Afghanistan</td>\n",
              "      <td>Maize</td>\n",
              "      <td>1963</td>\n",
              "      <td>hg/ha</td>\n",
              "      <td>14260</td>\n",
              "    </tr>\n",
              "    <tr>\n",
              "      <th>3</th>\n",
              "      <td>Afghanistan</td>\n",
              "      <td>Maize</td>\n",
              "      <td>1964</td>\n",
              "      <td>hg/ha</td>\n",
              "      <td>14257</td>\n",
              "    </tr>\n",
              "    <tr>\n",
              "      <th>4</th>\n",
              "      <td>Afghanistan</td>\n",
              "      <td>Maize</td>\n",
              "      <td>1965</td>\n",
              "      <td>hg/ha</td>\n",
              "      <td>14400</td>\n",
              "    </tr>\n",
              "    <tr>\n",
              "      <th>...</th>\n",
              "      <td>...</td>\n",
              "      <td>...</td>\n",
              "      <td>...</td>\n",
              "      <td>...</td>\n",
              "      <td>...</td>\n",
              "    </tr>\n",
              "    <tr>\n",
              "      <th>58760</th>\n",
              "      <td>Zimbabwe</td>\n",
              "      <td>Wheat</td>\n",
              "      <td>2015</td>\n",
              "      <td>hg/ha</td>\n",
              "      <td>20486</td>\n",
              "    </tr>\n",
              "    <tr>\n",
              "      <th>58761</th>\n",
              "      <td>Zimbabwe</td>\n",
              "      <td>Wheat</td>\n",
              "      <td>2016</td>\n",
              "      <td>hg/ha</td>\n",
              "      <td>19013</td>\n",
              "    </tr>\n",
              "    <tr>\n",
              "      <th>58762</th>\n",
              "      <td>Zimbabwe</td>\n",
              "      <td>Wheat</td>\n",
              "      <td>2017</td>\n",
              "      <td>hg/ha</td>\n",
              "      <td>17542</td>\n",
              "    </tr>\n",
              "    <tr>\n",
              "      <th>58763</th>\n",
              "      <td>Zimbabwe</td>\n",
              "      <td>Wheat</td>\n",
              "      <td>2018</td>\n",
              "      <td>hg/ha</td>\n",
              "      <td>16379</td>\n",
              "    </tr>\n",
              "    <tr>\n",
              "      <th>58764</th>\n",
              "      <td>Zimbabwe</td>\n",
              "      <td>Wheat</td>\n",
              "      <td>2019</td>\n",
              "      <td>hg/ha</td>\n",
              "      <td>15891</td>\n",
              "    </tr>\n",
              "  </tbody>\n",
              "</table>\n",
              "<p>58765 rows × 5 columns</p>\n",
              "</div>"
            ],
            "text/plain": [
              "              Area   Item  Year   Unit  Value\n",
              "0      Afghanistan  Maize  1961  hg/ha  14000\n",
              "1      Afghanistan  Maize  1962  hg/ha  14000\n",
              "2      Afghanistan  Maize  1963  hg/ha  14260\n",
              "3      Afghanistan  Maize  1964  hg/ha  14257\n",
              "4      Afghanistan  Maize  1965  hg/ha  14400\n",
              "...            ...    ...   ...    ...    ...\n",
              "58760     Zimbabwe  Wheat  2015  hg/ha  20486\n",
              "58761     Zimbabwe  Wheat  2016  hg/ha  19013\n",
              "58762     Zimbabwe  Wheat  2017  hg/ha  17542\n",
              "58763     Zimbabwe  Wheat  2018  hg/ha  16379\n",
              "58764     Zimbabwe  Wheat  2019  hg/ha  15891\n",
              "\n",
              "[58765 rows x 5 columns]"
            ]
          },
          "metadata": {
            "tags": []
          },
          "execution_count": 24
        }
      ]
    },
    {
      "cell_type": "markdown",
      "metadata": {
        "id": "Zwt3qFL4uY5w"
      },
      "source": [
        "## Pesticides data"
      ]
    },
    {
      "cell_type": "code",
      "metadata": {
        "id": "DZ06zZ7hukgW",
        "colab": {
          "base_uri": "https://localhost:8080/",
          "height": 0
        },
        "outputId": "dbd5049d-4567-4d98-f59e-948166875dce"
      },
      "source": [
        "pesticides_data"
      ],
      "execution_count": 25,
      "outputs": [
        {
          "output_type": "execute_result",
          "data": {
            "text/html": [
              "<div>\n",
              "<style scoped>\n",
              "    .dataframe tbody tr th:only-of-type {\n",
              "        vertical-align: middle;\n",
              "    }\n",
              "\n",
              "    .dataframe tbody tr th {\n",
              "        vertical-align: top;\n",
              "    }\n",
              "\n",
              "    .dataframe thead th {\n",
              "        text-align: right;\n",
              "    }\n",
              "</style>\n",
              "<table border=\"1\" class=\"dataframe\">\n",
              "  <thead>\n",
              "    <tr style=\"text-align: right;\">\n",
              "      <th></th>\n",
              "      <th>Domain</th>\n",
              "      <th>Area</th>\n",
              "      <th>Element</th>\n",
              "      <th>Item</th>\n",
              "      <th>Year</th>\n",
              "      <th>Unit</th>\n",
              "      <th>Value</th>\n",
              "    </tr>\n",
              "  </thead>\n",
              "  <tbody>\n",
              "    <tr>\n",
              "      <th>0</th>\n",
              "      <td>Pesticides Use</td>\n",
              "      <td>Albania</td>\n",
              "      <td>Agricultural Use</td>\n",
              "      <td>Pesticides (total)</td>\n",
              "      <td>1990</td>\n",
              "      <td>tonnes</td>\n",
              "      <td>121</td>\n",
              "    </tr>\n",
              "    <tr>\n",
              "      <th>1</th>\n",
              "      <td>Pesticides Use</td>\n",
              "      <td>Albania</td>\n",
              "      <td>Agricultural Use</td>\n",
              "      <td>Pesticides (total)</td>\n",
              "      <td>1991</td>\n",
              "      <td>tonnes</td>\n",
              "      <td>121</td>\n",
              "    </tr>\n",
              "    <tr>\n",
              "      <th>2</th>\n",
              "      <td>Pesticides Use</td>\n",
              "      <td>Albania</td>\n",
              "      <td>Agricultural Use</td>\n",
              "      <td>Pesticides (total)</td>\n",
              "      <td>1992</td>\n",
              "      <td>tonnes</td>\n",
              "      <td>121</td>\n",
              "    </tr>\n",
              "    <tr>\n",
              "      <th>3</th>\n",
              "      <td>Pesticides Use</td>\n",
              "      <td>Albania</td>\n",
              "      <td>Agricultural Use</td>\n",
              "      <td>Pesticides (total)</td>\n",
              "      <td>1993</td>\n",
              "      <td>tonnes</td>\n",
              "      <td>121</td>\n",
              "    </tr>\n",
              "    <tr>\n",
              "      <th>4</th>\n",
              "      <td>Pesticides Use</td>\n",
              "      <td>Albania</td>\n",
              "      <td>Agricultural Use</td>\n",
              "      <td>Pesticides (total)</td>\n",
              "      <td>1994</td>\n",
              "      <td>tonnes</td>\n",
              "      <td>201</td>\n",
              "    </tr>\n",
              "    <tr>\n",
              "      <th>...</th>\n",
              "      <td>...</td>\n",
              "      <td>...</td>\n",
              "      <td>...</td>\n",
              "      <td>...</td>\n",
              "      <td>...</td>\n",
              "      <td>...</td>\n",
              "      <td>...</td>\n",
              "    </tr>\n",
              "    <tr>\n",
              "      <th>4784</th>\n",
              "      <td>Pesticides Use</td>\n",
              "      <td>Zimbabwe</td>\n",
              "      <td>Agricultural Use</td>\n",
              "      <td>Pesticides (total)</td>\n",
              "      <td>2014</td>\n",
              "      <td>tonnes</td>\n",
              "      <td>2185</td>\n",
              "    </tr>\n",
              "    <tr>\n",
              "      <th>4785</th>\n",
              "      <td>Pesticides Use</td>\n",
              "      <td>Zimbabwe</td>\n",
              "      <td>Agricultural Use</td>\n",
              "      <td>Pesticides (total)</td>\n",
              "      <td>2015</td>\n",
              "      <td>tonnes</td>\n",
              "      <td>2185</td>\n",
              "    </tr>\n",
              "    <tr>\n",
              "      <th>4786</th>\n",
              "      <td>Pesticides Use</td>\n",
              "      <td>Zimbabwe</td>\n",
              "      <td>Agricultural Use</td>\n",
              "      <td>Pesticides (total)</td>\n",
              "      <td>2016</td>\n",
              "      <td>tonnes</td>\n",
              "      <td>2185</td>\n",
              "    </tr>\n",
              "    <tr>\n",
              "      <th>4787</th>\n",
              "      <td>Pesticides Use</td>\n",
              "      <td>Zimbabwe</td>\n",
              "      <td>Agricultural Use</td>\n",
              "      <td>Pesticides (total)</td>\n",
              "      <td>2017</td>\n",
              "      <td>tonnes</td>\n",
              "      <td>2185</td>\n",
              "    </tr>\n",
              "    <tr>\n",
              "      <th>4788</th>\n",
              "      <td>Pesticides Use</td>\n",
              "      <td>Zimbabwe</td>\n",
              "      <td>Agricultural Use</td>\n",
              "      <td>Pesticides (total)</td>\n",
              "      <td>2018</td>\n",
              "      <td>tonnes</td>\n",
              "      <td>2185</td>\n",
              "    </tr>\n",
              "  </tbody>\n",
              "</table>\n",
              "<p>4789 rows × 7 columns</p>\n",
              "</div>"
            ],
            "text/plain": [
              "              Domain      Area           Element  ...  Year    Unit Value\n",
              "0     Pesticides Use   Albania  Agricultural Use  ...  1990  tonnes   121\n",
              "1     Pesticides Use   Albania  Agricultural Use  ...  1991  tonnes   121\n",
              "2     Pesticides Use   Albania  Agricultural Use  ...  1992  tonnes   121\n",
              "3     Pesticides Use   Albania  Agricultural Use  ...  1993  tonnes   121\n",
              "4     Pesticides Use   Albania  Agricultural Use  ...  1994  tonnes   201\n",
              "...              ...       ...               ...  ...   ...     ...   ...\n",
              "4784  Pesticides Use  Zimbabwe  Agricultural Use  ...  2014  tonnes  2185\n",
              "4785  Pesticides Use  Zimbabwe  Agricultural Use  ...  2015  tonnes  2185\n",
              "4786  Pesticides Use  Zimbabwe  Agricultural Use  ...  2016  tonnes  2185\n",
              "4787  Pesticides Use  Zimbabwe  Agricultural Use  ...  2017  tonnes  2185\n",
              "4788  Pesticides Use  Zimbabwe  Agricultural Use  ...  2018  tonnes  2185\n",
              "\n",
              "[4789 rows x 7 columns]"
            ]
          },
          "metadata": {
            "tags": []
          },
          "execution_count": 25
        }
      ]
    },
    {
      "cell_type": "code",
      "metadata": {
        "id": "FcOfIRmddxqa",
        "colab": {
          "base_uri": "https://localhost:8080/"
        },
        "outputId": "fc6f562c-0c11-4c2f-e2d0-1840e3f2cc6f"
      },
      "source": [
        "pesticides_data.info()"
      ],
      "execution_count": 26,
      "outputs": [
        {
          "output_type": "stream",
          "text": [
            "<class 'pandas.core.frame.DataFrame'>\n",
            "RangeIndex: 4789 entries, 0 to 4788\n",
            "Data columns (total 7 columns):\n",
            " #   Column   Non-Null Count  Dtype \n",
            "---  ------   --------------  ----- \n",
            " 0   Domain   4789 non-null   object\n",
            " 1   Area     4789 non-null   object\n",
            " 2   Element  4789 non-null   object\n",
            " 3   Item     4789 non-null   object\n",
            " 4   Year     4789 non-null   int64 \n",
            " 5   Unit     4789 non-null   object\n",
            " 6   Value    4789 non-null   int64 \n",
            "dtypes: int64(2), object(5)\n",
            "memory usage: 262.0+ KB\n"
          ],
          "name": "stdout"
        }
      ]
    },
    {
      "cell_type": "code",
      "metadata": {
        "id": "V1oXUzZewJe_",
        "colab": {
          "base_uri": "https://localhost:8080/",
          "height": 0
        },
        "outputId": "8812f321-3081-4662-b2a7-8ea5ed81680c"
      },
      "source": [
        "pesticides_data.describe()"
      ],
      "execution_count": 27,
      "outputs": [
        {
          "output_type": "execute_result",
          "data": {
            "text/html": [
              "<div>\n",
              "<style scoped>\n",
              "    .dataframe tbody tr th:only-of-type {\n",
              "        vertical-align: middle;\n",
              "    }\n",
              "\n",
              "    .dataframe tbody tr th {\n",
              "        vertical-align: top;\n",
              "    }\n",
              "\n",
              "    .dataframe thead th {\n",
              "        text-align: right;\n",
              "    }\n",
              "</style>\n",
              "<table border=\"1\" class=\"dataframe\">\n",
              "  <thead>\n",
              "    <tr style=\"text-align: right;\">\n",
              "      <th></th>\n",
              "      <th>Year</th>\n",
              "      <th>Value</th>\n",
              "    </tr>\n",
              "  </thead>\n",
              "  <tbody>\n",
              "    <tr>\n",
              "      <th>count</th>\n",
              "      <td>4789.000000</td>\n",
              "      <td>4.789000e+03</td>\n",
              "    </tr>\n",
              "    <tr>\n",
              "      <th>mean</th>\n",
              "      <td>2004.142619</td>\n",
              "      <td>2.894718e+04</td>\n",
              "    </tr>\n",
              "    <tr>\n",
              "      <th>std</th>\n",
              "      <td>8.302595</td>\n",
              "      <td>1.627207e+05</td>\n",
              "    </tr>\n",
              "    <tr>\n",
              "      <th>min</th>\n",
              "      <td>1990.000000</td>\n",
              "      <td>0.000000e+00</td>\n",
              "    </tr>\n",
              "    <tr>\n",
              "      <th>25%</th>\n",
              "      <td>1997.000000</td>\n",
              "      <td>9.900000e+01</td>\n",
              "    </tr>\n",
              "    <tr>\n",
              "      <th>50%</th>\n",
              "      <td>2004.000000</td>\n",
              "      <td>1.221000e+03</td>\n",
              "    </tr>\n",
              "    <tr>\n",
              "      <th>75%</th>\n",
              "      <td>2011.000000</td>\n",
              "      <td>7.420000e+03</td>\n",
              "    </tr>\n",
              "    <tr>\n",
              "      <th>max</th>\n",
              "      <td>2018.000000</td>\n",
              "      <td>1.815690e+06</td>\n",
              "    </tr>\n",
              "  </tbody>\n",
              "</table>\n",
              "</div>"
            ],
            "text/plain": [
              "              Year         Value\n",
              "count  4789.000000  4.789000e+03\n",
              "mean   2004.142619  2.894718e+04\n",
              "std       8.302595  1.627207e+05\n",
              "min    1990.000000  0.000000e+00\n",
              "25%    1997.000000  9.900000e+01\n",
              "50%    2004.000000  1.221000e+03\n",
              "75%    2011.000000  7.420000e+03\n",
              "max    2018.000000  1.815690e+06"
            ]
          },
          "metadata": {
            "tags": []
          },
          "execution_count": 27
        }
      ]
    },
    {
      "cell_type": "code",
      "metadata": {
        "id": "6hDraB-6wRRI",
        "colab": {
          "base_uri": "https://localhost:8080/"
        },
        "outputId": "ecc59f7a-a060-45fc-8ed1-1ea7afdab32f"
      },
      "source": [
        "# Number of countries\n",
        "len(pesticides_data['Area'].unique())"
      ],
      "execution_count": 28,
      "outputs": [
        {
          "output_type": "execute_result",
          "data": {
            "text/plain": [
              "172"
            ]
          },
          "metadata": {
            "tags": []
          },
          "execution_count": 28
        }
      ]
    },
    {
      "cell_type": "code",
      "metadata": {
        "id": "g9dHtWIuwYXb",
        "colab": {
          "base_uri": "https://localhost:8080/"
        },
        "outputId": "addc82c7-3dce-4d20-8804-4909d0ea90a7"
      },
      "source": [
        "# Number of years (1990 - 2018)\n",
        "len(pesticides_data['Year'].unique())"
      ],
      "execution_count": 29,
      "outputs": [
        {
          "output_type": "execute_result",
          "data": {
            "text/plain": [
              "29"
            ]
          },
          "metadata": {
            "tags": []
          },
          "execution_count": 29
        }
      ]
    },
    {
      "cell_type": "code",
      "metadata": {
        "id": "QEqwHJibwd70",
        "colab": {
          "base_uri": "https://localhost:8080/",
          "height": 0
        },
        "outputId": "24bb8e5f-d7e7-49a9-e99c-7d2c39fb21d0"
      },
      "source": [
        "# Remove unnecessary columns\n",
        "pesticides_df = pesticides_data.drop(['Domain', 'Element'], axis=1)\n",
        "pesticides_df"
      ],
      "execution_count": 30,
      "outputs": [
        {
          "output_type": "execute_result",
          "data": {
            "text/html": [
              "<div>\n",
              "<style scoped>\n",
              "    .dataframe tbody tr th:only-of-type {\n",
              "        vertical-align: middle;\n",
              "    }\n",
              "\n",
              "    .dataframe tbody tr th {\n",
              "        vertical-align: top;\n",
              "    }\n",
              "\n",
              "    .dataframe thead th {\n",
              "        text-align: right;\n",
              "    }\n",
              "</style>\n",
              "<table border=\"1\" class=\"dataframe\">\n",
              "  <thead>\n",
              "    <tr style=\"text-align: right;\">\n",
              "      <th></th>\n",
              "      <th>Area</th>\n",
              "      <th>Item</th>\n",
              "      <th>Year</th>\n",
              "      <th>Unit</th>\n",
              "      <th>Value</th>\n",
              "    </tr>\n",
              "  </thead>\n",
              "  <tbody>\n",
              "    <tr>\n",
              "      <th>0</th>\n",
              "      <td>Albania</td>\n",
              "      <td>Pesticides (total)</td>\n",
              "      <td>1990</td>\n",
              "      <td>tonnes</td>\n",
              "      <td>121</td>\n",
              "    </tr>\n",
              "    <tr>\n",
              "      <th>1</th>\n",
              "      <td>Albania</td>\n",
              "      <td>Pesticides (total)</td>\n",
              "      <td>1991</td>\n",
              "      <td>tonnes</td>\n",
              "      <td>121</td>\n",
              "    </tr>\n",
              "    <tr>\n",
              "      <th>2</th>\n",
              "      <td>Albania</td>\n",
              "      <td>Pesticides (total)</td>\n",
              "      <td>1992</td>\n",
              "      <td>tonnes</td>\n",
              "      <td>121</td>\n",
              "    </tr>\n",
              "    <tr>\n",
              "      <th>3</th>\n",
              "      <td>Albania</td>\n",
              "      <td>Pesticides (total)</td>\n",
              "      <td>1993</td>\n",
              "      <td>tonnes</td>\n",
              "      <td>121</td>\n",
              "    </tr>\n",
              "    <tr>\n",
              "      <th>4</th>\n",
              "      <td>Albania</td>\n",
              "      <td>Pesticides (total)</td>\n",
              "      <td>1994</td>\n",
              "      <td>tonnes</td>\n",
              "      <td>201</td>\n",
              "    </tr>\n",
              "    <tr>\n",
              "      <th>...</th>\n",
              "      <td>...</td>\n",
              "      <td>...</td>\n",
              "      <td>...</td>\n",
              "      <td>...</td>\n",
              "      <td>...</td>\n",
              "    </tr>\n",
              "    <tr>\n",
              "      <th>4784</th>\n",
              "      <td>Zimbabwe</td>\n",
              "      <td>Pesticides (total)</td>\n",
              "      <td>2014</td>\n",
              "      <td>tonnes</td>\n",
              "      <td>2185</td>\n",
              "    </tr>\n",
              "    <tr>\n",
              "      <th>4785</th>\n",
              "      <td>Zimbabwe</td>\n",
              "      <td>Pesticides (total)</td>\n",
              "      <td>2015</td>\n",
              "      <td>tonnes</td>\n",
              "      <td>2185</td>\n",
              "    </tr>\n",
              "    <tr>\n",
              "      <th>4786</th>\n",
              "      <td>Zimbabwe</td>\n",
              "      <td>Pesticides (total)</td>\n",
              "      <td>2016</td>\n",
              "      <td>tonnes</td>\n",
              "      <td>2185</td>\n",
              "    </tr>\n",
              "    <tr>\n",
              "      <th>4787</th>\n",
              "      <td>Zimbabwe</td>\n",
              "      <td>Pesticides (total)</td>\n",
              "      <td>2017</td>\n",
              "      <td>tonnes</td>\n",
              "      <td>2185</td>\n",
              "    </tr>\n",
              "    <tr>\n",
              "      <th>4788</th>\n",
              "      <td>Zimbabwe</td>\n",
              "      <td>Pesticides (total)</td>\n",
              "      <td>2018</td>\n",
              "      <td>tonnes</td>\n",
              "      <td>2185</td>\n",
              "    </tr>\n",
              "  </tbody>\n",
              "</table>\n",
              "<p>4789 rows × 5 columns</p>\n",
              "</div>"
            ],
            "text/plain": [
              "          Area                Item  Year    Unit  Value\n",
              "0      Albania  Pesticides (total)  1990  tonnes    121\n",
              "1      Albania  Pesticides (total)  1991  tonnes    121\n",
              "2      Albania  Pesticides (total)  1992  tonnes    121\n",
              "3      Albania  Pesticides (total)  1993  tonnes    121\n",
              "4      Albania  Pesticides (total)  1994  tonnes    201\n",
              "...        ...                 ...   ...     ...    ...\n",
              "4784  Zimbabwe  Pesticides (total)  2014  tonnes   2185\n",
              "4785  Zimbabwe  Pesticides (total)  2015  tonnes   2185\n",
              "4786  Zimbabwe  Pesticides (total)  2016  tonnes   2185\n",
              "4787  Zimbabwe  Pesticides (total)  2017  tonnes   2185\n",
              "4788  Zimbabwe  Pesticides (total)  2018  tonnes   2185\n",
              "\n",
              "[4789 rows x 5 columns]"
            ]
          },
          "metadata": {
            "tags": []
          },
          "execution_count": 30
        }
      ]
    },
    {
      "cell_type": "markdown",
      "metadata": {
        "id": "zLMa9ocB7C9F"
      },
      "source": [
        "## Merging"
      ]
    },
    {
      "cell_type": "code",
      "metadata": {
        "id": "LYpPhQOe9JTf"
      },
      "source": [
        "rainfall_df.rename({'Rainfall - (MM)': 'Rainfall (mm)'}, axis=1, inplace=True)"
      ],
      "execution_count": 31,
      "outputs": []
    },
    {
      "cell_type": "code",
      "metadata": {
        "id": "LIyrj1-s9k2s"
      },
      "source": [
        "temperature_df.rename({'Temperature - (Celsius)': 'Temperature (Celsius)'}, axis=1, inplace=True)"
      ],
      "execution_count": 32,
      "outputs": []
    },
    {
      "cell_type": "code",
      "metadata": {
        "id": "T-DVlKrG9zeU"
      },
      "source": [
        "yield_df.rename({'Area': 'Country', 'Value': 'Yield (hg/ha)'}, axis=1, inplace=True)\n",
        "yield_df.drop('Unit', axis=1, inplace=True)"
      ],
      "execution_count": 33,
      "outputs": []
    },
    {
      "cell_type": "code",
      "metadata": {
        "id": "eAyPlZni-SYA"
      },
      "source": [
        "pesticides_df.rename({'Area': 'Country', 'Value': 'Pesticides (tonnes)'}, axis=1, inplace=True)\n",
        "pesticides_df.drop(['Unit', 'Item'], axis=1, inplace=True)"
      ],
      "execution_count": 34,
      "outputs": []
    },
    {
      "cell_type": "code",
      "metadata": {
        "colab": {
          "base_uri": "https://localhost:8080/",
          "height": 0
        },
        "id": "j3TKAqZd_wRO",
        "outputId": "ac4c96a2-1bd0-4b59-83a5-561574cc6639"
      },
      "source": [
        "rain_temp_df = pd.merge(rainfall_df, temperature_df, on=['Country', 'Year', 'ISO3'])\n",
        "rain_temp_yield_df = pd.merge(rain_temp_df, yield_df, on=['Country', 'Year'])\n",
        "rain_temp_yield_pest_df = pd.merge(rain_temp_yield_df, pesticides_df, on=['Country', 'Year'])\n",
        "rain_temp_yield_pest_df.drop('ISO3', axis=1, inplace=True)\n",
        "data = rain_temp_yield_pest_df[['Year', 'Country', 'Item', 'Rainfall (mm)', 'Temperature (Celsius)', 'Pesticides (tonnes)', 'Yield (hg/ha)']]\n",
        "data"
      ],
      "execution_count": 35,
      "outputs": [
        {
          "output_type": "execute_result",
          "data": {
            "text/html": [
              "<div>\n",
              "<style scoped>\n",
              "    .dataframe tbody tr th:only-of-type {\n",
              "        vertical-align: middle;\n",
              "    }\n",
              "\n",
              "    .dataframe tbody tr th {\n",
              "        vertical-align: top;\n",
              "    }\n",
              "\n",
              "    .dataframe thead th {\n",
              "        text-align: right;\n",
              "    }\n",
              "</style>\n",
              "<table border=\"1\" class=\"dataframe\">\n",
              "  <thead>\n",
              "    <tr style=\"text-align: right;\">\n",
              "      <th></th>\n",
              "      <th>Year</th>\n",
              "      <th>Country</th>\n",
              "      <th>Item</th>\n",
              "      <th>Rainfall (mm)</th>\n",
              "      <th>Temperature (Celsius)</th>\n",
              "      <th>Pesticides (tonnes)</th>\n",
              "      <th>Yield (hg/ha)</th>\n",
              "    </tr>\n",
              "  </thead>\n",
              "  <tbody>\n",
              "    <tr>\n",
              "      <th>0</th>\n",
              "      <td>1990</td>\n",
              "      <td>Albania</td>\n",
              "      <td>Maize</td>\n",
              "      <td>812.23450</td>\n",
              "      <td>12.051221</td>\n",
              "      <td>121</td>\n",
              "      <td>36613</td>\n",
              "    </tr>\n",
              "    <tr>\n",
              "      <th>1</th>\n",
              "      <td>1990</td>\n",
              "      <td>Albania</td>\n",
              "      <td>Potatoes</td>\n",
              "      <td>812.23450</td>\n",
              "      <td>12.051221</td>\n",
              "      <td>121</td>\n",
              "      <td>66667</td>\n",
              "    </tr>\n",
              "    <tr>\n",
              "      <th>2</th>\n",
              "      <td>1990</td>\n",
              "      <td>Albania</td>\n",
              "      <td>Rice, paddy</td>\n",
              "      <td>812.23450</td>\n",
              "      <td>12.051221</td>\n",
              "      <td>121</td>\n",
              "      <td>23333</td>\n",
              "    </tr>\n",
              "    <tr>\n",
              "      <th>3</th>\n",
              "      <td>1990</td>\n",
              "      <td>Albania</td>\n",
              "      <td>Sorghum</td>\n",
              "      <td>812.23450</td>\n",
              "      <td>12.051221</td>\n",
              "      <td>121</td>\n",
              "      <td>12500</td>\n",
              "    </tr>\n",
              "    <tr>\n",
              "      <th>4</th>\n",
              "      <td>1990</td>\n",
              "      <td>Albania</td>\n",
              "      <td>Soybeans</td>\n",
              "      <td>812.23450</td>\n",
              "      <td>12.051221</td>\n",
              "      <td>121</td>\n",
              "      <td>7000</td>\n",
              "    </tr>\n",
              "    <tr>\n",
              "      <th>...</th>\n",
              "      <td>...</td>\n",
              "      <td>...</td>\n",
              "      <td>...</td>\n",
              "      <td>...</td>\n",
              "      <td>...</td>\n",
              "      <td>...</td>\n",
              "      <td>...</td>\n",
              "    </tr>\n",
              "    <tr>\n",
              "      <th>20560</th>\n",
              "      <td>2016</td>\n",
              "      <td>Zimbabwe</td>\n",
              "      <td>Rice, paddy</td>\n",
              "      <td>455.13295</td>\n",
              "      <td>22.310167</td>\n",
              "      <td>2185</td>\n",
              "      <td>2284</td>\n",
              "    </tr>\n",
              "    <tr>\n",
              "      <th>20561</th>\n",
              "      <td>2016</td>\n",
              "      <td>Zimbabwe</td>\n",
              "      <td>Sorghum</td>\n",
              "      <td>455.13295</td>\n",
              "      <td>22.310167</td>\n",
              "      <td>2185</td>\n",
              "      <td>1907</td>\n",
              "    </tr>\n",
              "    <tr>\n",
              "      <th>20562</th>\n",
              "      <td>2016</td>\n",
              "      <td>Zimbabwe</td>\n",
              "      <td>Soybeans</td>\n",
              "      <td>455.13295</td>\n",
              "      <td>22.310167</td>\n",
              "      <td>2185</td>\n",
              "      <td>11958</td>\n",
              "    </tr>\n",
              "    <tr>\n",
              "      <th>20563</th>\n",
              "      <td>2016</td>\n",
              "      <td>Zimbabwe</td>\n",
              "      <td>Sweet potatoes</td>\n",
              "      <td>455.13295</td>\n",
              "      <td>22.310167</td>\n",
              "      <td>2185</td>\n",
              "      <td>27283</td>\n",
              "    </tr>\n",
              "    <tr>\n",
              "      <th>20564</th>\n",
              "      <td>2016</td>\n",
              "      <td>Zimbabwe</td>\n",
              "      <td>Wheat</td>\n",
              "      <td>455.13295</td>\n",
              "      <td>22.310167</td>\n",
              "      <td>2185</td>\n",
              "      <td>19013</td>\n",
              "    </tr>\n",
              "  </tbody>\n",
              "</table>\n",
              "<p>20565 rows × 7 columns</p>\n",
              "</div>"
            ],
            "text/plain": [
              "       Year   Country  ... Pesticides (tonnes)  Yield (hg/ha)\n",
              "0      1990   Albania  ...                 121          36613\n",
              "1      1990   Albania  ...                 121          66667\n",
              "2      1990   Albania  ...                 121          23333\n",
              "3      1990   Albania  ...                 121          12500\n",
              "4      1990   Albania  ...                 121           7000\n",
              "...     ...       ...  ...                 ...            ...\n",
              "20560  2016  Zimbabwe  ...                2185           2284\n",
              "20561  2016  Zimbabwe  ...                2185           1907\n",
              "20562  2016  Zimbabwe  ...                2185          11958\n",
              "20563  2016  Zimbabwe  ...                2185          27283\n",
              "20564  2016  Zimbabwe  ...                2185          19013\n",
              "\n",
              "[20565 rows x 7 columns]"
            ]
          },
          "metadata": {
            "tags": []
          },
          "execution_count": 35
        }
      ]
    },
    {
      "cell_type": "code",
      "metadata": {
        "colab": {
          "base_uri": "https://localhost:8080/"
        },
        "id": "zaX8XJ26Bt5r",
        "outputId": "180c93bb-2364-4e47-ca69-152842f34256"
      },
      "source": [
        "data.info()"
      ],
      "execution_count": 36,
      "outputs": [
        {
          "output_type": "stream",
          "text": [
            "<class 'pandas.core.frame.DataFrame'>\n",
            "Int64Index: 20565 entries, 0 to 20564\n",
            "Data columns (total 7 columns):\n",
            " #   Column                 Non-Null Count  Dtype  \n",
            "---  ------                 --------------  -----  \n",
            " 0   Year                   20565 non-null  int64  \n",
            " 1   Country                20565 non-null  object \n",
            " 2   Item                   20565 non-null  object \n",
            " 3   Rainfall (mm)          20565 non-null  float64\n",
            " 4   Temperature (Celsius)  20565 non-null  float64\n",
            " 5   Pesticides (tonnes)    20565 non-null  int64  \n",
            " 6   Yield (hg/ha)          20565 non-null  int64  \n",
            "dtypes: float64(2), int64(3), object(2)\n",
            "memory usage: 1.3+ MB\n"
          ],
          "name": "stdout"
        }
      ]
    },
    {
      "cell_type": "code",
      "metadata": {
        "colab": {
          "base_uri": "https://localhost:8080/",
          "height": 0
        },
        "id": "HD8whHSG_2fc",
        "outputId": "c21bb852-3e55-42bd-d275-a8a3446feeee"
      },
      "source": [
        "data.describe()"
      ],
      "execution_count": 37,
      "outputs": [
        {
          "output_type": "execute_result",
          "data": {
            "text/html": [
              "<div>\n",
              "<style scoped>\n",
              "    .dataframe tbody tr th:only-of-type {\n",
              "        vertical-align: middle;\n",
              "    }\n",
              "\n",
              "    .dataframe tbody tr th {\n",
              "        vertical-align: top;\n",
              "    }\n",
              "\n",
              "    .dataframe thead th {\n",
              "        text-align: right;\n",
              "    }\n",
              "</style>\n",
              "<table border=\"1\" class=\"dataframe\">\n",
              "  <thead>\n",
              "    <tr style=\"text-align: right;\">\n",
              "      <th></th>\n",
              "      <th>Year</th>\n",
              "      <th>Rainfall (mm)</th>\n",
              "      <th>Temperature (Celsius)</th>\n",
              "      <th>Pesticides (tonnes)</th>\n",
              "      <th>Yield (hg/ha)</th>\n",
              "    </tr>\n",
              "  </thead>\n",
              "  <tbody>\n",
              "    <tr>\n",
              "      <th>count</th>\n",
              "      <td>20565.000000</td>\n",
              "      <td>20565.000000</td>\n",
              "      <td>20565.000000</td>\n",
              "      <td>2.056500e+04</td>\n",
              "      <td>20565.000000</td>\n",
              "    </tr>\n",
              "    <tr>\n",
              "      <th>mean</th>\n",
              "      <td>2003.207440</td>\n",
              "      <td>1182.846979</td>\n",
              "      <td>20.163378</td>\n",
              "      <td>2.723118e+04</td>\n",
              "      <td>71124.713153</td>\n",
              "    </tr>\n",
              "    <tr>\n",
              "      <th>std</th>\n",
              "      <td>7.747596</td>\n",
              "      <td>810.999701</td>\n",
              "      <td>7.247707</td>\n",
              "      <td>1.483061e+05</td>\n",
              "      <td>78432.714854</td>\n",
              "    </tr>\n",
              "    <tr>\n",
              "      <th>min</th>\n",
              "      <td>1990.000000</td>\n",
              "      <td>16.703610</td>\n",
              "      <td>-7.166322</td>\n",
              "      <td>0.000000e+00</td>\n",
              "      <td>0.000000</td>\n",
              "    </tr>\n",
              "    <tr>\n",
              "      <th>25%</th>\n",
              "      <td>1997.000000</td>\n",
              "      <td>566.440600</td>\n",
              "      <td>14.272835</td>\n",
              "      <td>1.570000e+02</td>\n",
              "      <td>18000.000000</td>\n",
              "    </tr>\n",
              "    <tr>\n",
              "      <th>50%</th>\n",
              "      <td>2003.000000</td>\n",
              "      <td>1020.332550</td>\n",
              "      <td>22.912742</td>\n",
              "      <td>1.597000e+03</td>\n",
              "      <td>39916.000000</td>\n",
              "    </tr>\n",
              "    <tr>\n",
              "      <th>75%</th>\n",
              "      <td>2010.000000</td>\n",
              "      <td>1676.477300</td>\n",
              "      <td>25.504842</td>\n",
              "      <td>1.058300e+04</td>\n",
              "      <td>98571.000000</td>\n",
              "    </tr>\n",
              "    <tr>\n",
              "      <th>max</th>\n",
              "      <td>2016.000000</td>\n",
              "      <td>4999.686400</td>\n",
              "      <td>29.541075</td>\n",
              "      <td>1.815690e+06</td>\n",
              "      <td>771579.000000</td>\n",
              "    </tr>\n",
              "  </tbody>\n",
              "</table>\n",
              "</div>"
            ],
            "text/plain": [
              "               Year  Rainfall (mm)  ...  Pesticides (tonnes)  Yield (hg/ha)\n",
              "count  20565.000000   20565.000000  ...         2.056500e+04   20565.000000\n",
              "mean    2003.207440    1182.846979  ...         2.723118e+04   71124.713153\n",
              "std        7.747596     810.999701  ...         1.483061e+05   78432.714854\n",
              "min     1990.000000      16.703610  ...         0.000000e+00       0.000000\n",
              "25%     1997.000000     566.440600  ...         1.570000e+02   18000.000000\n",
              "50%     2003.000000    1020.332550  ...         1.597000e+03   39916.000000\n",
              "75%     2010.000000    1676.477300  ...         1.058300e+04   98571.000000\n",
              "max     2016.000000    4999.686400  ...         1.815690e+06  771579.000000\n",
              "\n",
              "[8 rows x 5 columns]"
            ]
          },
          "metadata": {
            "tags": []
          },
          "execution_count": 37
        }
      ]
    },
    {
      "cell_type": "code",
      "metadata": {
        "colab": {
          "base_uri": "https://localhost:8080/"
        },
        "id": "BcMXMIMrAEQO",
        "outputId": "0b50b793-77a8-4e31-8591-7f98f55fa168"
      },
      "source": [
        "# Number of countries\n",
        "len(data.Country.unique())"
      ],
      "execution_count": 38,
      "outputs": [
        {
          "output_type": "execute_result",
          "data": {
            "text/plain": [
              "137"
            ]
          },
          "metadata": {
            "tags": []
          },
          "execution_count": 38
        }
      ]
    },
    {
      "cell_type": "code",
      "metadata": {
        "colab": {
          "base_uri": "https://localhost:8080/"
        },
        "id": "TF_P-hbiBlnb",
        "outputId": "a2f7a27d-8d3f-46d0-8161-95d20c4537e0"
      },
      "source": [
        "# Number of years (1990 - 2016)\n",
        "len(data.Year.unique())"
      ],
      "execution_count": 39,
      "outputs": [
        {
          "output_type": "execute_result",
          "data": {
            "text/plain": [
              "27"
            ]
          },
          "metadata": {
            "tags": []
          },
          "execution_count": 39
        }
      ]
    },
    {
      "cell_type": "markdown",
      "metadata": {
        "id": "j50tyMsyAnTd"
      },
      "source": [
        "# Data Exploration"
      ]
    },
    {
      "cell_type": "code",
      "metadata": {
        "colab": {
          "base_uri": "https://localhost:8080/",
          "height": 0
        },
        "id": "sriIypQZAnDo",
        "outputId": "430b467f-6589-4265-baef-75c1dc203a1a"
      },
      "source": [
        "# prepare data\n",
        "yield_mean = yield_data.groupby(['Year', 'Item']).mean()\n",
        "\n",
        "# plot data\n",
        "fig, ax = plt.subplots(figsize=(15,9))\n",
        "fig.suptitle('Mean harvested value across all countries between 1961 and 2019')\n",
        "\n",
        "yield_mean['Value'].unstack().plot(ax=ax)\n",
        "\n",
        "ax.set_ylabel('Mean Value across all countries')\n",
        "ax.set_xlabel('Year')\n",
        "\n",
        "plt.show()"
      ],
      "execution_count": 40,
      "outputs": [
        {
          "output_type": "display_data",
          "data": {
            "image/png": "[encoded data removed]",
            "text/plain": [
              "<Figure size 1080x648 with 1 Axes>"
            ]
          },
          "metadata": {
            "tags": [],
            "needs_background": "light"
          }
        }
      ]
    },
    {
      "cell_type": "code",
      "metadata": {
        "colab": {
          "base_uri": "https://localhost:8080/",
          "height": 0
        },
        "id": "IFYBpYcVBJ3K",
        "outputId": "926125ca-f7bc-4cd7-d5cc-91fe129f4ee5"
      },
      "source": [
        "yield_data['Item'].value_counts().to_frame().reset_index()"
      ],
      "execution_count": 41,
      "outputs": [
        {
          "output_type": "execute_result",
          "data": {
            "text/html": [
              "<div>\n",
              "<style scoped>\n",
              "    .dataframe tbody tr th:only-of-type {\n",
              "        vertical-align: middle;\n",
              "    }\n",
              "\n",
              "    .dataframe tbody tr th {\n",
              "        vertical-align: top;\n",
              "    }\n",
              "\n",
              "    .dataframe thead th {\n",
              "        text-align: right;\n",
              "    }\n",
              "</style>\n",
              "<table border=\"1\" class=\"dataframe\">\n",
              "  <thead>\n",
              "    <tr style=\"text-align: right;\">\n",
              "      <th></th>\n",
              "      <th>index</th>\n",
              "      <th>Item</th>\n",
              "    </tr>\n",
              "  </thead>\n",
              "  <tbody>\n",
              "    <tr>\n",
              "      <th>0</th>\n",
              "      <td>Maize</td>\n",
              "      <td>8966</td>\n",
              "    </tr>\n",
              "    <tr>\n",
              "      <th>1</th>\n",
              "      <td>Potatoes</td>\n",
              "      <td>8220</td>\n",
              "    </tr>\n",
              "    <tr>\n",
              "      <th>2</th>\n",
              "      <td>Rice, paddy</td>\n",
              "      <td>6734</td>\n",
              "    </tr>\n",
              "    <tr>\n",
              "      <th>3</th>\n",
              "      <td>Wheat</td>\n",
              "      <td>6519</td>\n",
              "    </tr>\n",
              "    <tr>\n",
              "      <th>4</th>\n",
              "      <td>Sweet potatoes</td>\n",
              "      <td>6393</td>\n",
              "    </tr>\n",
              "    <tr>\n",
              "      <th>5</th>\n",
              "      <td>Sorghum</td>\n",
              "      <td>5816</td>\n",
              "    </tr>\n",
              "    <tr>\n",
              "      <th>6</th>\n",
              "      <td>Cassava</td>\n",
              "      <td>5756</td>\n",
              "    </tr>\n",
              "    <tr>\n",
              "      <th>7</th>\n",
              "      <td>Soybeans</td>\n",
              "      <td>4490</td>\n",
              "    </tr>\n",
              "    <tr>\n",
              "      <th>8</th>\n",
              "      <td>Yams</td>\n",
              "      <td>3130</td>\n",
              "    </tr>\n",
              "    <tr>\n",
              "      <th>9</th>\n",
              "      <td>Plantains and others</td>\n",
              "      <td>2741</td>\n",
              "    </tr>\n",
              "  </tbody>\n",
              "</table>\n",
              "</div>"
            ],
            "text/plain": [
              "                  index  Item\n",
              "0                 Maize  8966\n",
              "1              Potatoes  8220\n",
              "2           Rice, paddy  6734\n",
              "3                 Wheat  6519\n",
              "4        Sweet potatoes  6393\n",
              "5               Sorghum  5816\n",
              "6               Cassava  5756\n",
              "7              Soybeans  4490\n",
              "8                  Yams  3130\n",
              "9  Plantains and others  2741"
            ]
          },
          "metadata": {
            "tags": []
          },
          "execution_count": 41
        }
      ]
    },
    {
      "cell_type": "code",
      "metadata": {
        "colab": {
          "base_uri": "https://localhost:8080/",
          "height": 0
        },
        "id": "hlMJJJ7aBaax",
        "outputId": "e71bc84a-73bb-44d0-bab9-a574ad8319ac"
      },
      "source": [
        "fig, axs = plt.subplots(1,1, figsize=(15,9))\n",
        "fig.suptitle('Frequency Count', size=30)\n",
        "\n",
        "\n",
        "temp_df = yield_data['Item'].value_counts().to_frame().reset_index()\n",
        "sns.barplot(x='index', y='Item', data=temp_df, orient='v', ax=axs)\n",
        "axs.set_xlabel('Item')\n",
        "axs.set_ylabel('Count')\n",
        "\n",
        "\n",
        "fig.show()"
      ],
      "execution_count": 42,
      "outputs": [
        {
          "output_type": "display_data",
          "data": {
            "image/png": "[encoded data removed]",
            "text/plain": [
              "<Figure size 1080x648 with 1 Axes>"
            ]
          },
          "metadata": {
            "tags": [],
            "needs_background": "light"
          }
        }
      ]
    },
    {
      "cell_type": "code",
      "metadata": {
        "colab": {
          "base_uri": "https://localhost:8080/",
          "height": 0
        },
        "id": "sNwsoFDKCSpc",
        "outputId": "ea45739f-929f-4cd6-d8bb-04fcfd4c7b2a"
      },
      "source": [
        "data.groupby('Item').count()"
      ],
      "execution_count": 43,
      "outputs": [
        {
          "output_type": "execute_result",
          "data": {
            "text/html": [
              "<div>\n",
              "<style scoped>\n",
              "    .dataframe tbody tr th:only-of-type {\n",
              "        vertical-align: middle;\n",
              "    }\n",
              "\n",
              "    .dataframe tbody tr th {\n",
              "        vertical-align: top;\n",
              "    }\n",
              "\n",
              "    .dataframe thead th {\n",
              "        text-align: right;\n",
              "    }\n",
              "</style>\n",
              "<table border=\"1\" class=\"dataframe\">\n",
              "  <thead>\n",
              "    <tr style=\"text-align: right;\">\n",
              "      <th></th>\n",
              "      <th>Year</th>\n",
              "      <th>Country</th>\n",
              "      <th>Rainfall (mm)</th>\n",
              "      <th>Temperature (Celsius)</th>\n",
              "      <th>Pesticides (tonnes)</th>\n",
              "      <th>Yield (hg/ha)</th>\n",
              "    </tr>\n",
              "    <tr>\n",
              "      <th>Item</th>\n",
              "      <th></th>\n",
              "      <th></th>\n",
              "      <th></th>\n",
              "      <th></th>\n",
              "      <th></th>\n",
              "      <th></th>\n",
              "    </tr>\n",
              "  </thead>\n",
              "  <tbody>\n",
              "    <tr>\n",
              "      <th>Cassava</th>\n",
              "      <td>1647</td>\n",
              "      <td>1647</td>\n",
              "      <td>1647</td>\n",
              "      <td>1647</td>\n",
              "      <td>1647</td>\n",
              "      <td>1647</td>\n",
              "    </tr>\n",
              "    <tr>\n",
              "      <th>Maize</th>\n",
              "      <td>3197</td>\n",
              "      <td>3197</td>\n",
              "      <td>3197</td>\n",
              "      <td>3197</td>\n",
              "      <td>3197</td>\n",
              "      <td>3197</td>\n",
              "    </tr>\n",
              "    <tr>\n",
              "      <th>Plantains and others</th>\n",
              "      <td>769</td>\n",
              "      <td>769</td>\n",
              "      <td>769</td>\n",
              "      <td>769</td>\n",
              "      <td>769</td>\n",
              "      <td>769</td>\n",
              "    </tr>\n",
              "    <tr>\n",
              "      <th>Potatoes</th>\n",
              "      <td>3164</td>\n",
              "      <td>3164</td>\n",
              "      <td>3164</td>\n",
              "      <td>3164</td>\n",
              "      <td>3164</td>\n",
              "      <td>3164</td>\n",
              "    </tr>\n",
              "    <tr>\n",
              "      <th>Rice, paddy</th>\n",
              "      <td>2271</td>\n",
              "      <td>2271</td>\n",
              "      <td>2271</td>\n",
              "      <td>2271</td>\n",
              "      <td>2271</td>\n",
              "      <td>2271</td>\n",
              "    </tr>\n",
              "    <tr>\n",
              "      <th>Sorghum</th>\n",
              "      <td>2235</td>\n",
              "      <td>2235</td>\n",
              "      <td>2235</td>\n",
              "      <td>2235</td>\n",
              "      <td>2235</td>\n",
              "      <td>2235</td>\n",
              "    </tr>\n",
              "    <tr>\n",
              "      <th>Soybeans</th>\n",
              "      <td>1798</td>\n",
              "      <td>1798</td>\n",
              "      <td>1798</td>\n",
              "      <td>1798</td>\n",
              "      <td>1798</td>\n",
              "      <td>1798</td>\n",
              "    </tr>\n",
              "    <tr>\n",
              "      <th>Sweet potatoes</th>\n",
              "      <td>1889</td>\n",
              "      <td>1889</td>\n",
              "      <td>1889</td>\n",
              "      <td>1889</td>\n",
              "      <td>1889</td>\n",
              "      <td>1889</td>\n",
              "    </tr>\n",
              "    <tr>\n",
              "      <th>Wheat</th>\n",
              "      <td>2629</td>\n",
              "      <td>2629</td>\n",
              "      <td>2629</td>\n",
              "      <td>2629</td>\n",
              "      <td>2629</td>\n",
              "      <td>2629</td>\n",
              "    </tr>\n",
              "    <tr>\n",
              "      <th>Yams</th>\n",
              "      <td>966</td>\n",
              "      <td>966</td>\n",
              "      <td>966</td>\n",
              "      <td>966</td>\n",
              "      <td>966</td>\n",
              "      <td>966</td>\n",
              "    </tr>\n",
              "  </tbody>\n",
              "</table>\n",
              "</div>"
            ],
            "text/plain": [
              "                      Year  Country  ...  Pesticides (tonnes)  Yield (hg/ha)\n",
              "Item                                 ...                                    \n",
              "Cassava               1647     1647  ...                 1647           1647\n",
              "Maize                 3197     3197  ...                 3197           3197\n",
              "Plantains and others   769      769  ...                  769            769\n",
              "Potatoes              3164     3164  ...                 3164           3164\n",
              "Rice, paddy           2271     2271  ...                 2271           2271\n",
              "Sorghum               2235     2235  ...                 2235           2235\n",
              "Soybeans              1798     1798  ...                 1798           1798\n",
              "Sweet potatoes        1889     1889  ...                 1889           1889\n",
              "Wheat                 2629     2629  ...                 2629           2629\n",
              "Yams                   966      966  ...                  966            966\n",
              "\n",
              "[10 rows x 6 columns]"
            ]
          },
          "metadata": {
            "tags": []
          },
          "execution_count": 43
        }
      ]
    },
    {
      "cell_type": "code",
      "metadata": {
        "colab": {
          "base_uri": "https://localhost:8080/"
        },
        "id": "oPx5yjixCWWx",
        "outputId": "c9328a79-2772-482e-8872-bfb3044690ee"
      },
      "source": [
        "data.groupby(['Country'],sort=True)['Yield (hg/ha)'].sum().nlargest(25)"
      ],
      "execution_count": 44,
      "outputs": [
        {
          "output_type": "execute_result",
          "data": {
            "text/plain": [
              "Country\n",
              "Japan          24385646\n",
              "Jamaica        23367356\n",
              "Australia      22170578\n",
              "Egypt          22044721\n",
              "Belize         21176279\n",
              "New Zealand    20851881\n",
              "El Salvador    20028555\n",
              "Argentina      19670482\n",
              "Mexico         19499783\n",
              "China          19469860\n",
              "Italy          19142128\n",
              "Guatemala      19129721\n",
              "Israel         18998549\n",
              "Spain          18827270\n",
              "France         18603730\n",
              "Brazil         18495090\n",
              "Costa Rica     18218097\n",
              "Mali           18182173\n",
              "Peru           18126231\n",
              "Suriname       17809152\n",
              "India          17610164\n",
              "Greece         17470917\n",
              "Kenya          17213164\n",
              "Netherlands    16578361\n",
              "Jordan         16390587\n",
              "Name: Yield (hg/ha), dtype: int64"
            ]
          },
          "metadata": {
            "tags": []
          },
          "execution_count": 44
        }
      ]
    },
    {
      "cell_type": "code",
      "metadata": {
        "colab": {
          "base_uri": "https://localhost:8080/"
        },
        "id": "oDbALX8rCcM-",
        "outputId": "0f16135e-c925-4719-a481-fc97c948fe86"
      },
      "source": [
        "data.groupby(['Item','Country'],sort=True)['Yield (hg/ha)'].sum().nlargest(25)"
      ],
      "execution_count": 45,
      "outputs": [
        {
          "output_type": "execute_result",
          "data": {
            "text/plain": [
              "Item                  Country     \n",
              "Potatoes              New Zealand     11962908\n",
              "                      Netherlands     11683260\n",
              "                      France          10782564\n",
              "                      Switzerland     10696290\n",
              "                      Germany         10592201\n",
              "                      Denmark         10509400\n",
              "                      Australia        9152736\n",
              "                      Israel           9115743\n",
              "                      Kuwait           9041794\n",
              "                      Ireland          8712595\n",
              "                      Sweden           8596094\n",
              "                      Japan            8401024\n",
              "                      South Africa     8233546\n",
              "                      Austria          7935598\n",
              "                      Belgium          7651768\n",
              "Plantains and others  Guatemala        7593910\n",
              "Cassava               India            7533263\n",
              "Potatoes              Jordan           7505152\n",
              "Plantains and others  Belize           7451019\n",
              "Sweet potatoes        Australia        7430896\n",
              "Potatoes              Turkey           7340980\n",
              "                      Argentina        7314353\n",
              "Sweet potatoes        Egypt            7310510\n",
              "Potatoes              Oman             7292709\n",
              "Plantains and others  Suriname         7054417\n",
              "Name: Yield (hg/ha), dtype: int64"
            ]
          },
          "metadata": {
            "tags": []
          },
          "execution_count": 45
        }
      ]
    },
    {
      "cell_type": "code",
      "metadata": {
        "colab": {
          "base_uri": "https://localhost:8080/",
          "height": 0
        },
        "id": "ieZAae032mYt",
        "outputId": "695f44e4-49a1-473a-8a93-5b835e8dd976"
      },
      "source": [
        "corr = data.select_dtypes(include=[np.number]).corr()\n",
        "\n",
        "mask = np.zeros_like(corr, dtype=np.bool)\n",
        "mask[np.triu_indices_from(mask)] = True\n",
        "\n",
        "f, ax = plt.subplots(figsize=(11, 9))\n",
        "\n",
        "# Generate a custom diverging colormap\n",
        "cmap = sns.palette=\"vlag\"\n",
        "\n",
        "# Draw the heatmap with the mask and correct aspect ratio\n",
        "sns.heatmap(corr, mask=mask, cmap=cmap, vmax=.3, center=0,\n",
        "            square=True, linewidths=.5, cbar_kws={\"shrink\": .5});"
      ],
      "execution_count": 46,
      "outputs": [
        {
          "output_type": "display_data",
          "data": {
            "image/png": "[encoded data removed]",
            "text/plain": [
              "<Figure size 792x648 with 2 Axes>"
            ]
          },
          "metadata": {
            "tags": [],
            "needs_background": "light"
          }
        }
      ]
    },
    {
      "cell_type": "markdown",
      "metadata": {
        "id": "GM8b-vOJ3T-C"
      },
      "source": [
        "# Data Preprocessing"
      ]
    },
    {
      "cell_type": "markdown",
      "metadata": {
        "id": "Db0QImn6ELWm"
      },
      "source": [
        "## One Hot Encoding"
      ]
    },
    {
      "cell_type": "code",
      "metadata": {
        "colab": {
          "base_uri": "https://localhost:8080/"
        },
        "id": "F6Qbjvp5EODk",
        "outputId": "47e33ab2-e9b6-4006-fd81-76af45ce5cca"
      },
      "source": [
        "data.shape"
      ],
      "execution_count": 47,
      "outputs": [
        {
          "output_type": "execute_result",
          "data": {
            "text/plain": [
              "(20565, 7)"
            ]
          },
          "metadata": {
            "tags": []
          },
          "execution_count": 47
        }
      ]
    },
    {
      "cell_type": "code",
      "metadata": {
        "id": "fzm584773Xwi"
      },
      "source": [
        "from sklearn.preprocessing import OneHotEncoder\n",
        "\n",
        "df_onehot = pd.get_dummies(data, columns=['Country', 'Item'], prefix=['Country', 'Item'])\n",
        "data = df_onehot.loc[:, df_onehot.columns != 'Yield (hg/ha)']\n",
        "data['Yield (hg/ha)'] = df_onehot['Yield (hg/ha)']"
      ],
      "execution_count": 48,
      "outputs": []
    },
    {
      "cell_type": "code",
      "metadata": {
        "colab": {
          "base_uri": "https://localhost:8080/"
        },
        "id": "ezDlRPNOERrn",
        "outputId": "4ffc70eb-1889-4145-d2a7-fbf5f29e8fd4"
      },
      "source": [
        "data.shape"
      ],
      "execution_count": 49,
      "outputs": [
        {
          "output_type": "execute_result",
          "data": {
            "text/plain": [
              "(20565, 152)"
            ]
          },
          "metadata": {
            "tags": []
          },
          "execution_count": 49
        }
      ]
    },
    {
      "cell_type": "markdown",
      "metadata": {
        "id": "tkSgJZToEjcs"
      },
      "source": [
        "## Backward Elimination"
      ]
    },
    {
      "cell_type": "code",
      "metadata": {
        "colab": {
          "base_uri": "https://localhost:8080/"
        },
        "id": "huFggNCMEnmc",
        "outputId": "1e45e07d-e911-4129-9082-3206735155cc"
      },
      "source": [
        "data.shape"
      ],
      "execution_count": 50,
      "outputs": [
        {
          "output_type": "execute_result",
          "data": {
            "text/plain": [
              "(20565, 152)"
            ]
          },
          "metadata": {
            "tags": []
          },
          "execution_count": 50
        }
      ]
    },
    {
      "cell_type": "code",
      "metadata": {
        "colab": {
          "base_uri": "https://localhost:8080/"
        },
        "id": "QHHjkPqnEptL",
        "outputId": "41b6ff48-d341-4c74-c6aa-65c659d7cc9e"
      },
      "source": [
        "import statsmodels.api as sm\n",
        "\n",
        "y = data['Yield (hg/ha)']\n",
        "X = data.drop('Yield (hg/ha)', axis=1)\n",
        "\n",
        "cols = list(X.columns)\n",
        "pmax = 1\n",
        "while (len(cols)>0):\n",
        "    p = []\n",
        "    X_1 = X[cols]\n",
        "    X_1 = sm.add_constant(X_1)\n",
        "    model = sm.OLS(y,X_1).fit()\n",
        "    p = pd.Series(model.pvalues.values[1:], index = cols)      \n",
        "    pmax = max(p)\n",
        "    feature_with_p_max = p.idxmax()\n",
        "    if(pmax>0.05):\n",
        "        cols.remove(feature_with_p_max)\n",
        "    else:\n",
        "        break\n",
        "\n",
        "data = data[cols]\n",
        "data.insert(len(data.columns), 'Yield (hg/ha)', y)"
      ],
      "execution_count": 51,
      "outputs": [
        {
          "output_type": "stream",
          "text": [
            "/usr/local/lib/python3.7/dist-packages/statsmodels/tools/_testing.py:19: FutureWarning: pandas.util.testing is deprecated. Use the functions in the public API at pandas.testing instead.\n",
            "  import pandas.util.testing as tm\n"
          ],
          "name": "stderr"
        }
      ]
    },
    {
      "cell_type": "code",
      "metadata": {
        "colab": {
          "base_uri": "https://localhost:8080/"
        },
        "id": "cBNLUFuPE0Wa",
        "outputId": "831ff7b7-c816-492f-8bf4-5a16225fe172"
      },
      "source": [
        "data.shape"
      ],
      "execution_count": 52,
      "outputs": [
        {
          "output_type": "execute_result",
          "data": {
            "text/plain": [
              "(20565, 132)"
            ]
          },
          "metadata": {
            "tags": []
          },
          "execution_count": 52
        }
      ]
    },
    {
      "cell_type": "markdown",
      "metadata": {
        "id": "Zu70VxZzETx3"
      },
      "source": [
        "## Removing of Outliers"
      ]
    },
    {
      "cell_type": "code",
      "metadata": {
        "colab": {
          "base_uri": "https://localhost:8080/"
        },
        "id": "sbKNgO-9EaMd",
        "outputId": "31627062-c20b-4a2b-9656-3569285c7bc4"
      },
      "source": [
        "data.shape"
      ],
      "execution_count": 53,
      "outputs": [
        {
          "output_type": "execute_result",
          "data": {
            "text/plain": [
              "(20565, 132)"
            ]
          },
          "metadata": {
            "tags": []
          },
          "execution_count": 53
        }
      ]
    },
    {
      "cell_type": "code",
      "metadata": {
        "id": "4E25m1QoEbnJ"
      },
      "source": [
        "from scipy import stats\n",
        "\n",
        "y = data['Yield (hg/ha)']\n",
        "X = data.drop('Yield (hg/ha)', axis=1)\n",
        "\n",
        "z_scores = stats.zscore(X)\n",
        "abs_z_scores = np.abs(z_scores)\n",
        "\n",
        "filtered_entries = (abs_z_scores < 15).all(axis=1)\n",
        "X = X[filtered_entries]\n",
        "\n",
        "X.insert(len(X.columns), 'Yield (hg/ha)', y)\n",
        "data = X"
      ],
      "execution_count": 54,
      "outputs": []
    },
    {
      "cell_type": "code",
      "metadata": {
        "colab": {
          "base_uri": "https://localhost:8080/"
        },
        "id": "M2wF0fPeF35h",
        "outputId": "17c4b945-93e6-43ba-c249-50e3f56f3ee6"
      },
      "source": [
        "data.shape"
      ],
      "execution_count": 55,
      "outputs": [
        {
          "output_type": "execute_result",
          "data": {
            "text/plain": [
              "(19267, 132)"
            ]
          },
          "metadata": {
            "tags": []
          },
          "execution_count": 55
        }
      ]
    },
    {
      "cell_type": "markdown",
      "metadata": {
        "id": "3uKaTDeD4BCy"
      },
      "source": [
        "## Feature Scaling"
      ]
    },
    {
      "cell_type": "code",
      "metadata": {
        "colab": {
          "base_uri": "https://localhost:8080/"
        },
        "id": "bN4BLCABq6qK",
        "outputId": "f478bd27-4832-460a-bc44-d380c97f4d89"
      },
      "source": [
        "data.shape"
      ],
      "execution_count": 56,
      "outputs": [
        {
          "output_type": "execute_result",
          "data": {
            "text/plain": [
              "(19267, 132)"
            ]
          },
          "metadata": {
            "tags": []
          },
          "execution_count": 56
        }
      ]
    },
    {
      "cell_type": "code",
      "metadata": {
        "id": "njKYQI9M3_Wb"
      },
      "source": [
        "from sklearn.preprocessing import MinMaxScaler\n",
        "\n",
        "y = data['Yield (hg/ha)']\n",
        "X = data.drop('Yield (hg/ha)', axis=1)\n",
        "\n",
        "scaler = MinMaxScaler()\n",
        "data_without_yield = pd.DataFrame(scaler.fit_transform(X), index=y.index)\n",
        "data_without_yield.columns = X.columns\n",
        "data_without_yield.insert(len(data_without_yield.columns), 'Yield (hg/ha)', y)\n",
        "\n",
        "data = data_without_yield"
      ],
      "execution_count": 57,
      "outputs": []
    },
    {
      "cell_type": "code",
      "metadata": {
        "colab": {
          "base_uri": "https://localhost:8080/"
        },
        "id": "WFuArBEDq7lO",
        "outputId": "b4406bac-dcd9-4217-ac9c-d6d9dbbdb209"
      },
      "source": [
        "data.shape"
      ],
      "execution_count": 58,
      "outputs": [
        {
          "output_type": "execute_result",
          "data": {
            "text/plain": [
              "(19267, 132)"
            ]
          },
          "metadata": {
            "tags": []
          },
          "execution_count": 58
        }
      ]
    },
    {
      "cell_type": "markdown",
      "metadata": {
        "id": "v50zqQjnGYXy"
      },
      "source": [
        "# Modeling"
      ]
    },
    {
      "cell_type": "code",
      "metadata": {
        "id": "_bdGTFeWrgDB"
      },
      "source": [
        "y = data['Yield (hg/ha)']\n",
        "X = data.drop('Yield (hg/ha)', axis=1)"
      ],
      "execution_count": 59,
      "outputs": []
    },
    {
      "cell_type": "code",
      "metadata": {
        "id": "P7_mia574S3d"
      },
      "source": [
        "from sklearn.model_selection import train_test_split\n",
        "X_train, X_test, y_train, y_test = train_test_split(X, y, test_size=0.2, random_state=42)"
      ],
      "execution_count": 60,
      "outputs": []
    },
    {
      "cell_type": "code",
      "metadata": {
        "id": "8wWdT5R2tCqL"
      },
      "source": [
        "def mean_absolute_percentage_error(y_true, y_pred): \n",
        "    y_true, y_pred = np.array(y_true), np.array(y_pred)\n",
        "    return np.mean(np.abs((y_true - y_pred) / y_true)) * 100"
      ],
      "execution_count": 61,
      "outputs": []
    },
    {
      "cell_type": "code",
      "metadata": {
        "id": "gEZNJ2UEtPSN"
      },
      "source": [
        "def plot_regression_results(ax, y_test, y_pred, title, estimated_time, scores):\n",
        "\n",
        "  # linear least-squares\n",
        "  slope, intercept, rvalue, pvalue, stderr = linregress(y_test, y_pred)\n",
        "  ax.plot([y_test.min(), y_test.max()], [intercept+y_test.min()*slope, intercept+y_test.max()*slope], '--r')\n",
        "\n",
        "  ax.scatter(y_test, y_pred, alpha=0.7)\n",
        "\n",
        "  # Anzeigen der Werte in einer Box\n",
        "  extra = plt.Rectangle((0, 0), 0, 0, fc=\"w\", fill=False,\n",
        "                          edgecolor='none', linewidth=0)\n",
        "  ax.legend([extra], [scores], loc='upper left')\n",
        "\n",
        "  ax.set_xlabel('Actual values in tonnes')\n",
        "  ax.set_ylabel('Predictes values in tonnes')\n",
        "  ax.set_title('{}\\nTrained in {:.2f} Milliseconds'.format(name, estimated_time*1000))"
      ],
      "execution_count": 62,
      "outputs": []
    },
    {
      "cell_type": "code",
      "metadata": {
        "colab": {
          "base_uri": "https://localhost:8080/",
          "height": 937
        },
        "id": "7xA4dA6CtRsB",
        "outputId": "eef2ffcd-abe5-4b4a-a7d3-4452db96e091"
      },
      "source": [
        "from sklearn.metrics import mean_squared_error, r2_score, mean_absolute_error, max_error\n",
        "from sklearn.ensemble import GradientBoostingRegressor, RandomForestRegressor\n",
        "from sklearn.model_selection import cross_validate, cross_val_predict\n",
        "from sklearn.linear_model import LinearRegression, SGDRegressor\n",
        "from sklearn.model_selection import train_test_split\n",
        "from sklearn.neighbors import KNeighborsRegressor\n",
        "from sklearn.preprocessing import StandardScaler\n",
        "from sklearn.preprocessing import LabelEncoder\n",
        "from sklearn.tree import DecisionTreeRegressor\n",
        "\n",
        "import time\n",
        "from scipy.stats import linregress\n",
        "\n",
        "lin = LinearRegression()\n",
        "dtr = DecisionTreeRegressor()\n",
        "sgd = SGDRegressor(loss='squared_loss')\n",
        "gbr = GradientBoostingRegressor()\n",
        "knn = KNeighborsRegressor(n_neighbors=5)\n",
        "rfr = RandomForestRegressor()\n",
        "\n",
        "# Verwendete Regressionen\n",
        "estimators = [('Linear Regression', lin),\n",
        "              ('Decision Tree Regression', dtr),\n",
        "              ('Stochastic Gradient Descent Regression', sgd),\n",
        "              ('Gradient Boosting Regression', gbr),\n",
        "              ('K-nearest Neighbour 5', knn),\n",
        "              ('Random Forest Regression', rfr)]\n",
        "\n",
        "# Festlegen des Subplots\n",
        "fig, axs = plt.subplots(nrows=2, ncols=3, sharex=True, sharey=True, figsize=(20, 13))\n",
        "axs = np.ravel(axs)\n",
        "\n",
        "for ax, (name, est) in zip(axs, estimators):\n",
        "  start_time = time.time()\n",
        "  # Trainieren des Modelles\n",
        "  est.fit(X_train, y_train)\n",
        "  y_pred = est.predict(X_test)\n",
        "  estimated_time = time.time() - start_time\n",
        "\n",
        "  # Anzeigen des Modelles\n",
        "  plot_regression_results(ax, y_test, y_pred, name, estimated_time, \n",
        "                          (r'$R^2$ = {:.2f}' + '\\n' + \n",
        "                          r'MAE = {:.0f}' + '\\n' +\n",
        "                          r'MSE = {:.0f}' + '\\n' +\n",
        "                          r'RMSE = {:.0f}' + '\\n' +\n",
        "                          r'MAX = {:.0f}' + '\\n' +\n",
        "                          r'MAPE = {:.2f}%')\n",
        "                          .format(r2_score(y_test, y_pred),\n",
        "                                  mean_absolute_error(y_test, y_pred),\n",
        "                                  mean_squared_error(y_test, y_pred),\n",
        "                                  mean_squared_error(y_test, y_pred, squared=False),\n",
        "                                  max_error(y_test, y_pred),\n",
        "                                  mean_absolute_percentage_error(y_test, y_pred)))\n",
        "  \n",
        "plt.suptitle('Regressionsverfahren')\n",
        "plt.tight_layout()\n",
        "plt.subplots_adjust(top=0.9)\n",
        "plt.show()"
      ],
      "execution_count": 63,
      "outputs": [
        {
          "output_type": "display_data",
          "data": {
            "image/png": "[encoded data removed]",
            "text/plain": [
              "<Figure size 1440x936 with 6 Axes>"
            ]
          },
          "metadata": {
            "tags": [],
            "needs_background": "light"
          }
        }
      ]
    },
    {
      "cell_type": "code",
      "metadata": {
        "colab": {
          "base_uri": "https://localhost:8080/",
          "height": 356
        },
        "id": "cSceiM09tVlX",
        "outputId": "9bdcc21e-ce7d-452f-d7d3-0f53754bfced"
      },
      "source": [
        "r2_values = []\n",
        "max_error_values = []\n",
        "neg_mean_absolute_error_values = []\n",
        "neg_mean_squared_error_values = []\n",
        "neg_root_mean_squared_error_values = []\n",
        "\n",
        "for name, est in estimators:\n",
        "  # Kreuzvalidierung\n",
        "  score = cross_validate(est, X_train, y_train, cv=5,\n",
        "                         scoring=['r2', 'max_error', 'neg_mean_absolute_error', 'neg_mean_squared_error', 'neg_root_mean_squared_error'],\n",
        "                         n_jobs=-1)\n",
        "\n",
        "  # Abspeichern der Werte\n",
        "  r2_values.append(score['test_r2'])\n",
        "  max_error_values.append(-score['test_max_error'])\n",
        "  neg_mean_absolute_error_values.append(-score['test_neg_mean_absolute_error'])\n",
        "  neg_mean_squared_error_values.append(-score['test_neg_mean_squared_error'])\n",
        "  neg_root_mean_squared_error_values.append(-score['test_neg_root_mean_squared_error'])\n",
        "\n",
        "# Plotten der Werte\n",
        "fig, axs = plt.subplots(nrows=1, ncols=5, figsize=(30, 5))\n",
        "\n",
        "names = ['LR', 'DTR', 'SGD', 'GBR', 'KNN', 'RFR']\n",
        "\n",
        "axs[0].boxplot(r2_values, labels=names)\n",
        "axs[0].set_title('R2')\n",
        "axs[1].boxplot(max_error_values, labels=names)\n",
        "axs[1].set_title('MAX')\n",
        "axs[2].boxplot(neg_mean_absolute_error_values, labels=names)\n",
        "axs[2].set_title('MAE')\n",
        "axs[3].boxplot(neg_mean_squared_error_values, labels=names)\n",
        "axs[3].set_title('MSE')\n",
        "axs[4].boxplot(neg_root_mean_squared_error_values, labels=names)\n",
        "axs[4].set_title('RMSE')\n",
        "\n",
        "plt.suptitle('Cross-validation')\n",
        "plt.show()"
      ],
      "execution_count": 64,
      "outputs": [
        {
          "output_type": "display_data",
          "data": {
            "image/png": "[encoded data removed]",
            "text/plain": [
              "<Figure size 2160x360 with 5 Axes>"
            ]
          },
          "metadata": {
            "tags": [],
            "needs_background": "light"
          }
        }
      ]
    },
    {
      "cell_type": "code",
      "metadata": {
        "colab": {
          "base_uri": "https://localhost:8080/"
        },
        "id": "hgQq7J0svGYY",
        "outputId": "bf14e4b6-2b62-4ece-b953-309604f79e80"
      },
      "source": [
        "regression = 5\n",
        "\n",
        "print(u'R²: {:.3f} \\u00B1 {:.3f}'.format(np.mean(r2_values[regression]), np.std(r2_values[regression])))\n",
        "print(u'MAX: {:,.0f} \\u00B1 {:,.0f}'.format(np.mean(max_error_values[regression]), np.std(max_error_values[regression])))\n",
        "print(u'MAE: {:,.0f} \\u00B1 {:,.0f}'.format(np.mean(neg_mean_absolute_error_values[regression]), np.std(neg_mean_absolute_error_values[regression])))\n",
        "print(u'MSE: {:,.0f} \\u00B1 {:,.0f}'.format(np.mean(neg_mean_squared_error_values[regression]), np.std(neg_mean_squared_error_values[regression])))\n",
        "print(u'RMSE: {:,.0f} \\u00B1 {:,.0f}'.format(np.mean(neg_root_mean_squared_error_values[regression]), np.std(neg_root_mean_squared_error_values[regression])))"
      ],
      "execution_count": 72,
      "outputs": [
        {
          "output_type": "stream",
          "text": [
            "R²: 0.925 ± 0.008\n",
            "MAX: 297,202 ± 76,088\n",
            "MAE: 9,563 ± 373\n",
            "MSE: 421,644,136 ± 45,136,904\n",
            "RMSE: 20,506 ± 1,075\n"
          ],
          "name": "stdout"
        }
      ]
    },
    {
      "cell_type": "markdown",
      "metadata": {
        "id": "-nioT3J6t7qb"
      },
      "source": [
        "Code von beispiel v"
      ]
    },
    {
      "cell_type": "code",
      "metadata": {
        "id": "3JWJO2WM4xR-"
      },
      "source": [
        "from sklearn.metrics import r2_score\n",
        "def compare_models(model):\n",
        "    model_name = model.__class__.__name__\n",
        "    fit=model.fit(train_data,train_labels)\n",
        "    y_pred=fit.predict(test_data)\n",
        "    r2=r2_score(test_labels,y_pred)\n",
        "    return([model_name,r2])"
      ],
      "execution_count": 66,
      "outputs": []
    },
    {
      "cell_type": "code",
      "metadata": {
        "id": "CS1tkl7Z41Gu"
      },
      "source": [
        "from sklearn.ensemble import RandomForestRegressor\n",
        "from sklearn.ensemble import GradientBoostingRegressor\n",
        "from sklearn import svm\n",
        "from sklearn.tree import DecisionTreeRegressor\n",
        "\n",
        "models = [\n",
        "    GradientBoostingRegressor(n_estimators=200, max_depth=3, random_state=0),\n",
        "     RandomForestRegressor(n_estimators=200, max_depth=3, random_state=0),\n",
        "    svm.SVR(),\n",
        "   DecisionTreeRegressor()\n",
        "]"
      ],
      "execution_count": 67,
      "outputs": []
    },
    {
      "cell_type": "code",
      "metadata": {
        "id": "p6xnCJvn421s",
        "outputId": "948ed8b0-4750-41db-9be6-b1819b6212bc",
        "colab": {
          "base_uri": "https://localhost:8080/",
          "height": 282
        }
      },
      "source": [
        "model_train=list(map(compare_models,models))"
      ],
      "execution_count": 68,
      "outputs": [
        {
          "output_type": "error",
          "ename": "NameError",
          "evalue": "ignored",
          "traceback": [
            "\u001b[0;31m---------------------------------------------------------------------------\u001b[0m",
            "\u001b[0;31mNameError\u001b[0m                                 Traceback (most recent call last)",
            "\u001b[0;32m<ipython-input-68-5803ecf8bbc8>\u001b[0m in \u001b[0;36m<module>\u001b[0;34m()\u001b[0m\n\u001b[0;32m----> 1\u001b[0;31m \u001b[0mmodel_train\u001b[0m\u001b[0;34m=\u001b[0m\u001b[0mlist\u001b[0m\u001b[0;34m(\u001b[0m\u001b[0mmap\u001b[0m\u001b[0;34m(\u001b[0m\u001b[0mcompare_models\u001b[0m\u001b[0;34m,\u001b[0m\u001b[0mmodels\u001b[0m\u001b[0;34m)\u001b[0m\u001b[0;34m)\u001b[0m\u001b[0;34m\u001b[0m\u001b[0;34m\u001b[0m\u001b[0m\n\u001b[0m",
            "\u001b[0;32m<ipython-input-66-771e1dc52a55>\u001b[0m in \u001b[0;36mcompare_models\u001b[0;34m(model)\u001b[0m\n\u001b[1;32m      2\u001b[0m \u001b[0;32mdef\u001b[0m \u001b[0mcompare_models\u001b[0m\u001b[0;34m(\u001b[0m\u001b[0mmodel\u001b[0m\u001b[0;34m)\u001b[0m\u001b[0;34m:\u001b[0m\u001b[0;34m\u001b[0m\u001b[0;34m\u001b[0m\u001b[0m\n\u001b[1;32m      3\u001b[0m     \u001b[0mmodel_name\u001b[0m \u001b[0;34m=\u001b[0m \u001b[0mmodel\u001b[0m\u001b[0;34m.\u001b[0m\u001b[0m__class__\u001b[0m\u001b[0;34m.\u001b[0m\u001b[0m__name__\u001b[0m\u001b[0;34m\u001b[0m\u001b[0;34m\u001b[0m\u001b[0m\n\u001b[0;32m----> 4\u001b[0;31m     \u001b[0mfit\u001b[0m\u001b[0;34m=\u001b[0m\u001b[0mmodel\u001b[0m\u001b[0;34m.\u001b[0m\u001b[0mfit\u001b[0m\u001b[0;34m(\u001b[0m\u001b[0mtrain_data\u001b[0m\u001b[0;34m,\u001b[0m\u001b[0mtrain_labels\u001b[0m\u001b[0;34m)\u001b[0m\u001b[0;34m\u001b[0m\u001b[0;34m\u001b[0m\u001b[0m\n\u001b[0m\u001b[1;32m      5\u001b[0m     \u001b[0my_pred\u001b[0m\u001b[0;34m=\u001b[0m\u001b[0mfit\u001b[0m\u001b[0;34m.\u001b[0m\u001b[0mpredict\u001b[0m\u001b[0;34m(\u001b[0m\u001b[0mtest_data\u001b[0m\u001b[0;34m)\u001b[0m\u001b[0;34m\u001b[0m\u001b[0;34m\u001b[0m\u001b[0m\n\u001b[1;32m      6\u001b[0m     \u001b[0mr2\u001b[0m\u001b[0;34m=\u001b[0m\u001b[0mr2_score\u001b[0m\u001b[0;34m(\u001b[0m\u001b[0mtest_labels\u001b[0m\u001b[0;34m,\u001b[0m\u001b[0my_pred\u001b[0m\u001b[0;34m)\u001b[0m\u001b[0;34m\u001b[0m\u001b[0;34m\u001b[0m\u001b[0m\n",
            "\u001b[0;31mNameError\u001b[0m: name 'train_data' is not defined"
          ]
        }
      ]
    },
    {
      "cell_type": "code",
      "metadata": {
        "id": "_YCuaDSs46MO"
      },
      "source": [
        "print(*model_train, sep = \"\\n\")"
      ],
      "execution_count": null,
      "outputs": []
    },
    {
      "cell_type": "code",
      "metadata": {
        "id": "2Ka1v8s16Ru_"
      },
      "source": [
        "df_onehot = df_onehot.drop(['Year'], axis=1)"
      ],
      "execution_count": null,
      "outputs": []
    },
    {
      "cell_type": "code",
      "metadata": {
        "id": "h9ryaGbC6arJ"
      },
      "source": [
        "df_onehot.head()"
      ],
      "execution_count": null,
      "outputs": []
    },
    {
      "cell_type": "code",
      "metadata": {
        "id": "R2e5fZDO6jaA"
      },
      "source": [
        "#setting test data to columns from dataframe and excluding 'hg/ha_yield' values where ML model should be predicting \n",
        "\n",
        "test_df=pd.DataFrame(test_data,columns=df_onehot.loc[:, df_onehot.columns != 'yield_per_year'].columns) \n",
        "\n",
        "# using stack function to return a reshaped DataFrame by pivoting the columns of the current dataframe\n",
        "\n",
        "cntry=test_df[[col for col in test_df.columns if 'Country' in col]].stack()[test_df[[col for col in test_df.columns if 'Country' in col]].stack()>0]\n",
        "cntrylist=list(pd.DataFrame(cntry).index.get_level_values(1))\n",
        "countries=[i.split(\"_\")[1] for i in cntrylist]\n",
        "itm=test_df[[col for col in test_df.columns if 'Item' in col]].stack()[test_df[[col for col in test_df.columns if 'Item' in col]].stack()>0]\n",
        "itmlist=list(pd.DataFrame(itm).index.get_level_values(1))\n",
        "items=[i.split(\"_\")[1] for i in itmlist]"
      ],
      "execution_count": null,
      "outputs": []
    },
    {
      "cell_type": "code",
      "metadata": {
        "id": "lipP42AX8QKV"
      },
      "source": [
        "test_df.head()"
      ],
      "execution_count": null,
      "outputs": []
    },
    {
      "cell_type": "code",
      "metadata": {
        "id": "DW7AUv3_8VN2"
      },
      "source": [
        "test_df.drop([col for col in test_df.columns if 'Item' in col],axis=1,inplace=True)\n",
        "test_df.drop([col for col in test_df.columns if 'Country' in col],axis=1,inplace=True)\n",
        "test_df.head()"
      ],
      "execution_count": null,
      "outputs": []
    },
    {
      "cell_type": "code",
      "metadata": {
        "id": "TeNuZl3e8Zel"
      },
      "source": [
        "test_df['Country']=countries\n",
        "test_df['Item']=items\n",
        "test_df.head()"
      ],
      "execution_count": null,
      "outputs": []
    },
    {
      "cell_type": "code",
      "metadata": {
        "id": "Qq8FSAV-8bWm"
      },
      "source": [
        "clf=DecisionTreeRegressor()\n",
        "model=clf.fit(train_data,train_labels)\n",
        "\n",
        "test_df[\"yield_predicted\"]= model.predict(test_data)\n",
        "test_df[\"yield_actual\"]=pd.DataFrame(test_labels)[\"yield_per_year\"].tolist()\n",
        "test_group=test_df.groupby(\"Item\")\n",
        "test_group.apply(lambda x: r2_score(x.yield_actual,x.yield_predicted))"
      ],
      "execution_count": null,
      "outputs": []
    },
    {
      "cell_type": "code",
      "metadata": {
        "id": "ExHCxslJ8gAo"
      },
      "source": [
        "# So let's run the model actual values against the predicted ones \n",
        "\n",
        "fig, ax = plt.subplots() \n",
        "\n",
        "ax.scatter(test_df[\"yield_actual\"], test_df[\"yield_predicted\"],edgecolors=(0, 0, 0))\n",
        "\n",
        "ax.set_xlabel('Actual')\n",
        "ax.set_ylabel('Predicted')\n",
        "ax.set_title(\"Actual vs Predicted\")\n",
        "plt.show()"
      ],
      "execution_count": null,
      "outputs": []
    },
    {
      "cell_type": "code",
      "metadata": {
        "id": "aHTYpYJ086SM"
      },
      "source": [
        "def adjusted_r_squared(y,yhat,x):\n",
        "    score=1- (((1-(r2_score(y,yhat)))*(len(y)-1))/(len(y)-x.shape[1]-2))\n",
        "    return score\n",
        "\n",
        "test_group.apply(lambda x: adjusted_r_squared(x.yield_actual,x.yield_predicted,x))"
      ],
      "execution_count": null,
      "outputs": []
    }
  ]
}